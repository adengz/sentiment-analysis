{
 "cells": [
  {
   "cell_type": "code",
   "execution_count": 1,
   "metadata": {},
   "outputs": [
    {
     "data": {
      "text/plain": [
       "<torch._C.Generator at 0x7f6d246fa168>"
      ]
     },
     "execution_count": 1,
     "metadata": {},
     "output_type": "execute_result"
    }
   ],
   "source": [
    "from functools import partial\n",
    "\n",
    "import torch\n",
    "from torch.optim import Adam\n",
    "import pandas as pd\n",
    "\n",
    "from data import Vocabulary, SentiDataset\n",
    "from models import WordAveragingModel, AttentionWeightedWordAveragingModel, CosineSimilarityAttention, dot_product_self_attention, MultiHeadSelfAttentionModel\n",
    "from learner import SentimentLearner\n",
    "\n",
    "torch.manual_seed(41)"
   ]
  },
  {
   "cell_type": "markdown",
   "metadata": {},
   "source": [
    "### Hyperparameters"
   ]
  },
  {
   "cell_type": "code",
   "execution_count": 2,
   "metadata": {},
   "outputs": [],
   "source": [
    "BATCH_SIZE = 256\n",
    "EMBED_DIM = 256\n",
    "DROPOUT = 0.25\n",
    "OPTIM_CLS = Adam"
   ]
  },
  {
   "cell_type": "markdown",
   "metadata": {},
   "source": [
    "### Load data"
   ]
  },
  {
   "cell_type": "code",
   "execution_count": 3,
   "metadata": {},
   "outputs": [],
   "source": [
    "FILENAME = 'senti.{}.tsv'\n",
    "\n",
    "vocab = Vocabulary()\n",
    "\n",
    "train_set = SentiDataset(FILENAME.format('train'), tokenizer=vocab)\n",
    "valid_set = SentiDataset(FILENAME.format('dev'), tokenizer=vocab)\n",
    "test_set = SentiDataset(FILENAME.format('test'), tokenizer=vocab)\n",
    "\n",
    "get_learner = partial(SentimentLearner, train_set=train_set, valid_set=valid_set, test_set=test_set, batch_size=BATCH_SIZE, optim_cls=OPTIM_CLS)"
   ]
  },
  {
   "cell_type": "markdown",
   "metadata": {},
   "source": [
    "# Word averaging model"
   ]
  },
  {
   "cell_type": "markdown",
   "metadata": {},
   "source": [
    "### Load model and learner"
   ]
  },
  {
   "cell_type": "code",
   "execution_count": 4,
   "metadata": {},
   "outputs": [],
   "source": [
    "word_avg = WordAveragingModel(len(vocab), embed_dim=EMBED_DIM, embed_dropout=DROPOUT)\n",
    "learner = get_learner(model=word_avg, lr=2e-4)"
   ]
  },
  {
   "cell_type": "markdown",
   "metadata": {},
   "source": [
    "### Train model"
   ]
  },
  {
   "cell_type": "code",
   "execution_count": 5,
   "metadata": {},
   "outputs": [
    {
     "name": "stderr",
     "output_type": "stream",
     "text": [
      "Epoch 01: 100%|██████████| 264/264 [00:03<00:00, 87.83it/s, Loss=0.657, Acc=0.667]\n"
     ]
    },
    {
     "name": "stdout",
     "output_type": "stream",
     "text": [
      "\tTrain Loss: 0.663\tTrain Acc: 59.85%\n",
      "\tValid Loss: 0.654\tValid Acc: 58.72%\n",
      "\tModel parameters saved to word_avg.pt\n"
     ]
    },
    {
     "name": "stderr",
     "output_type": "stream",
     "text": [
      "Epoch 02: 100%|██████████| 264/264 [00:02<00:00, 88.65it/s, Loss=0.508, Acc=0.905]\n"
     ]
    },
    {
     "name": "stdout",
     "output_type": "stream",
     "text": [
      "\tTrain Loss: 0.563\tTrain Acc: 75.66%\n",
      "\tValid Loss: 0.583\tValid Acc: 74.20%\n",
      "\tModel parameters saved to word_avg.pt\n"
     ]
    },
    {
     "name": "stderr",
     "output_type": "stream",
     "text": [
      "Epoch 03: 100%|██████████| 264/264 [00:02<00:00, 91.51it/s, Loss=0.463, Acc=0.857]\n"
     ]
    },
    {
     "name": "stdout",
     "output_type": "stream",
     "text": [
      "\tTrain Loss: 0.458\tTrain Acc: 84.90%\n",
      "\tValid Loss: 0.529\tValid Acc: 78.33%\n",
      "\tModel parameters saved to word_avg.pt\n"
     ]
    },
    {
     "name": "stderr",
     "output_type": "stream",
     "text": [
      "Epoch 04: 100%|██████████| 264/264 [00:02<00:00, 88.68it/s, Loss=0.382, Acc=0.857]\n"
     ]
    },
    {
     "name": "stdout",
     "output_type": "stream",
     "text": [
      "\tTrain Loss: 0.382\tTrain Acc: 88.05%\n",
      "\tValid Loss: 0.492\tValid Acc: 79.93%\n",
      "\tModel parameters saved to word_avg.pt\n"
     ]
    },
    {
     "name": "stderr",
     "output_type": "stream",
     "text": [
      "Epoch 05: 100%|██████████| 264/264 [00:02<00:00, 89.58it/s, Loss=0.258, Acc=0.952]\n"
     ]
    },
    {
     "name": "stdout",
     "output_type": "stream",
     "text": [
      "\tTrain Loss: 0.330\tTrain Acc: 89.72%\n",
      "\tValid Loss: 0.466\tValid Acc: 80.28%\n",
      "\tModel parameters saved to word_avg.pt\n"
     ]
    },
    {
     "name": "stderr",
     "output_type": "stream",
     "text": [
      "Epoch 06: 100%|██████████| 264/264 [00:03<00:00, 87.93it/s, Loss=0.23, Acc=0.952] \n"
     ]
    },
    {
     "name": "stdout",
     "output_type": "stream",
     "text": [
      "\tTrain Loss: 0.293\tTrain Acc: 90.68%\n",
      "\tValid Loss: 0.449\tValid Acc: 80.73%\n",
      "\tModel parameters saved to word_avg.pt\n"
     ]
    },
    {
     "name": "stderr",
     "output_type": "stream",
     "text": [
      "Epoch 07: 100%|██████████| 264/264 [00:03<00:00, 87.49it/s, Loss=0.239, Acc=0.857]\n"
     ]
    },
    {
     "name": "stdout",
     "output_type": "stream",
     "text": [
      "\tTrain Loss: 0.265\tTrain Acc: 91.52%\n",
      "\tValid Loss: 0.436\tValid Acc: 80.96%\n",
      "\tModel parameters saved to word_avg.pt\n"
     ]
    },
    {
     "name": "stderr",
     "output_type": "stream",
     "text": [
      "Epoch 08: 100%|██████████| 264/264 [00:02<00:00, 94.75it/s, Loss=0.12, Acc=1]     \n"
     ]
    },
    {
     "name": "stdout",
     "output_type": "stream",
     "text": [
      "\tTrain Loss: 0.244\tTrain Acc: 92.13%\n",
      "\tValid Loss: 0.428\tValid Acc: 81.19%\n",
      "\tModel parameters saved to word_avg.pt\n"
     ]
    },
    {
     "name": "stderr",
     "output_type": "stream",
     "text": [
      "Epoch 09: 100%|██████████| 264/264 [00:03<00:00, 82.95it/s, Loss=0.161, Acc=0.952]\n"
     ]
    },
    {
     "name": "stdout",
     "output_type": "stream",
     "text": [
      "\tTrain Loss: 0.227\tTrain Acc: 92.66%\n",
      "\tValid Loss: 0.422\tValid Acc: 80.96%\n",
      "\tModel parameters saved to word_avg.pt\n"
     ]
    },
    {
     "name": "stderr",
     "output_type": "stream",
     "text": [
      "Epoch 10: 100%|██████████| 264/264 [00:02<00:00, 91.94it/s, Loss=0.193, Acc=0.952]\n"
     ]
    },
    {
     "name": "stdout",
     "output_type": "stream",
     "text": [
      "\tTrain Loss: 0.213\tTrain Acc: 93.02%\n",
      "\tValid Loss: 0.419\tValid Acc: 81.42%\n",
      "\tModel parameters saved to word_avg.pt\n"
     ]
    },
    {
     "name": "stderr",
     "output_type": "stream",
     "text": [
      "Epoch 11: 100%|██████████| 264/264 [00:02<00:00, 91.31it/s, Loss=0.183, Acc=1]    \n"
     ]
    },
    {
     "name": "stdout",
     "output_type": "stream",
     "text": [
      "\tTrain Loss: 0.201\tTrain Acc: 93.31%\n",
      "\tValid Loss: 0.417\tValid Acc: 80.96%\n",
      "\tModel parameters saved to word_avg.pt\n"
     ]
    },
    {
     "name": "stderr",
     "output_type": "stream",
     "text": [
      "Epoch 12: 100%|██████████| 264/264 [00:03<00:00, 86.34it/s, Loss=0.0741, Acc=1]   \n"
     ]
    },
    {
     "name": "stdout",
     "output_type": "stream",
     "text": [
      "\tTrain Loss: 0.191\tTrain Acc: 93.60%\n",
      "\tValid Loss: 0.417\tValid Acc: 81.42%\n",
      "\tModel parameters saved to word_avg.pt\n"
     ]
    },
    {
     "name": "stderr",
     "output_type": "stream",
     "text": [
      "Epoch 13: 100%|██████████| 264/264 [00:02<00:00, 91.09it/s, Loss=0.249, Acc=0.905]\n"
     ]
    },
    {
     "name": "stdout",
     "output_type": "stream",
     "text": [
      "\tTrain Loss: 0.182\tTrain Acc: 93.83%\n",
      "\tValid Loss: 0.418\tValid Acc: 81.19%\n"
     ]
    },
    {
     "name": "stderr",
     "output_type": "stream",
     "text": [
      "Epoch 14: 100%|██████████| 264/264 [00:03<00:00, 85.83it/s, Loss=0.393, Acc=0.905]\n"
     ]
    },
    {
     "name": "stdout",
     "output_type": "stream",
     "text": [
      "\tTrain Loss: 0.175\tTrain Acc: 94.04%\n",
      "\tValid Loss: 0.419\tValid Acc: 81.19%\n"
     ]
    },
    {
     "name": "stderr",
     "output_type": "stream",
     "text": [
      "Epoch 15: 100%|██████████| 264/264 [00:03<00:00, 87.80it/s, Loss=0.172, Acc=0.857]\n"
     ]
    },
    {
     "name": "stdout",
     "output_type": "stream",
     "text": [
      "\tTrain Loss: 0.168\tTrain Acc: 94.27%\n",
      "\tValid Loss: 0.422\tValid Acc: 81.31%\n"
     ]
    },
    {
     "name": "stderr",
     "output_type": "stream",
     "text": [
      "Epoch 16: 100%|██████████| 264/264 [00:03<00:00, 80.98it/s, Loss=0.0914, Acc=1]   \n"
     ]
    },
    {
     "name": "stdout",
     "output_type": "stream",
     "text": [
      "\tTrain Loss: 0.162\tTrain Acc: 94.43%\n",
      "\tValid Loss: 0.426\tValid Acc: 81.31%\n"
     ]
    },
    {
     "name": "stderr",
     "output_type": "stream",
     "text": [
      "Epoch 17: 100%|██████████| 264/264 [00:02<00:00, 92.15it/s, Loss=0.131, Acc=0.952]\n"
     ]
    },
    {
     "name": "stdout",
     "output_type": "stream",
     "text": [
      "\tTrain Loss: 0.157\tTrain Acc: 94.57%\n",
      "\tValid Loss: 0.429\tValid Acc: 81.31%\n"
     ]
    },
    {
     "name": "stderr",
     "output_type": "stream",
     "text": [
      "Epoch 18: 100%|██████████| 264/264 [00:02<00:00, 88.13it/s, Loss=0.0318, Acc=1]   \n"
     ]
    },
    {
     "name": "stdout",
     "output_type": "stream",
     "text": [
      "\tTrain Loss: 0.152\tTrain Acc: 94.70%\n",
      "\tValid Loss: 0.433\tValid Acc: 81.31%\n"
     ]
    },
    {
     "name": "stderr",
     "output_type": "stream",
     "text": [
      "Epoch 19: 100%|██████████| 264/264 [00:03<00:00, 87.06it/s, Loss=0.066, Acc=0.952] \n"
     ]
    },
    {
     "name": "stdout",
     "output_type": "stream",
     "text": [
      "\tTrain Loss: 0.147\tTrain Acc: 94.87%\n",
      "\tValid Loss: 0.438\tValid Acc: 81.42%\n"
     ]
    },
    {
     "name": "stderr",
     "output_type": "stream",
     "text": [
      "Epoch 20: 100%|██████████| 264/264 [00:03<00:00, 85.48it/s, Loss=0.112, Acc=0.952]\n"
     ]
    },
    {
     "name": "stdout",
     "output_type": "stream",
     "text": [
      "\tTrain Loss: 0.143\tTrain Acc: 94.97%\n",
      "\tValid Loss: 0.445\tValid Acc: 81.54%\n"
     ]
    }
   ],
   "source": [
    "word_avg_filename = 'word_avg.pt'\n",
    "learner.train(epochs=20, filename=word_avg_filename)"
   ]
  },
  {
   "cell_type": "markdown",
   "metadata": {},
   "source": [
    "### Load best model to evaluate"
   ]
  },
  {
   "cell_type": "code",
   "execution_count": 6,
   "metadata": {},
   "outputs": [],
   "source": [
    "learner.load_model_params(word_avg_filename)"
   ]
  },
  {
   "cell_type": "code",
   "execution_count": 7,
   "metadata": {},
   "outputs": [
    {
     "name": "stdout",
     "output_type": "stream",
     "text": [
      "\t Test Loss: 0.408\t Test Acc: 81.38%\n"
     ]
    }
   ],
   "source": [
    "learner.print_test_results()"
   ]
  },
  {
   "cell_type": "markdown",
   "metadata": {},
   "source": [
    "## Norm of word embeddings"
   ]
  },
  {
   "cell_type": "code",
   "execution_count": 8,
   "metadata": {},
   "outputs": [],
   "source": [
    "word_embedding = learner.model.word_embedding\n",
    "norms = pd.Series(torch.linalg.norm(word_embedding, dim=1).cpu(), index=list(vocab.itos)).sort_values()"
   ]
  },
  {
   "cell_type": "code",
   "execution_count": 9,
   "metadata": {},
   "outputs": [
    {
     "data": {
      "text/plain": [
       "worst         4.024570\n",
       "suffers       3.295249\n",
       "mess          3.271896\n",
       "lacking       3.261830\n",
       "remarkable    3.245809\n",
       "lacks         3.195105\n",
       "flat          3.192154\n",
       "powerful      3.182127\n",
       "devoid        3.166308\n",
       "hilarious     3.112350\n",
       "captures      3.098900\n",
       "touching      3.046976\n",
       "waste         2.944949\n",
       "stupid        2.901314\n",
       "terrific      2.898190\n",
       "dtype: float32"
      ]
     },
     "execution_count": 9,
     "metadata": {},
     "output_type": "execute_result"
    }
   ],
   "source": [
    "norms.tail(15)[::-1]"
   ]
  },
  {
   "cell_type": "code",
   "execution_count": 10,
   "metadata": {},
   "outputs": [
    {
     "data": {
      "text/plain": [
       "<pad>           0.000000\n",
       "<unk>           0.017731\n",
       "jesus           0.067001\n",
       "non-bondish     0.067320\n",
       "fustily         0.078295\n",
       "reviews         0.079019\n",
       "grounding       0.081172\n",
       "malapropisms    0.081883\n",
       "margarita       0.082631\n",
       "fuelled         0.083875\n",
       "freud           0.084031\n",
       "bearing         0.086743\n",
       "presentation    0.087168\n",
       "by-the-book     0.088188\n",
       "wattage         0.088215\n",
       "dtype: float32"
      ]
     },
     "execution_count": 10,
     "metadata": {},
     "output_type": "execute_result"
    }
   ],
   "source": [
    "norms.head(15)"
   ]
  },
  {
   "cell_type": "markdown",
   "metadata": {},
   "source": [
    "# Attention weighted word averaging model\n",
    "## w/ cosine similarity attention"
   ]
  },
  {
   "cell_type": "markdown",
   "metadata": {},
   "source": [
    "### Load model and learner"
   ]
  },
  {
   "cell_type": "code",
   "execution_count": 11,
   "metadata": {},
   "outputs": [],
   "source": [
    "cos_att = AttentionWeightedWordAveragingModel(len(vocab), embed_dim=EMBED_DIM, attention=CosineSimilarityAttention(EMBED_DIM), embed_dropout=DROPOUT)\n",
    "learner = get_learner(model=cos_att, lr=1e-4)"
   ]
  },
  {
   "cell_type": "markdown",
   "metadata": {},
   "source": [
    "### Train model"
   ]
  },
  {
   "cell_type": "code",
   "execution_count": 12,
   "metadata": {},
   "outputs": [
    {
     "name": "stderr",
     "output_type": "stream",
     "text": [
      "Epoch 01: 100%|██████████| 264/264 [00:03<00:00, 81.49it/s, Loss=0.643, Acc=0.857]\n"
     ]
    },
    {
     "name": "stdout",
     "output_type": "stream",
     "text": [
      "\tTrain Loss: 0.679\tTrain Acc: 67.02%\n",
      "\tValid Loss: 0.664\tValid Acc: 72.13%\n",
      "\tModel parameters saved to cos_att.pt\n"
     ]
    },
    {
     "name": "stderr",
     "output_type": "stream",
     "text": [
      "Epoch 02: 100%|██████████| 264/264 [00:03<00:00, 76.41it/s, Loss=0.536, Acc=0.857]\n"
     ]
    },
    {
     "name": "stdout",
     "output_type": "stream",
     "text": [
      "\tTrain Loss: 0.606\tTrain Acc: 78.17%\n",
      "\tValid Loss: 0.611\tValid Acc: 70.18%\n",
      "\tModel parameters saved to cos_att.pt\n"
     ]
    },
    {
     "name": "stderr",
     "output_type": "stream",
     "text": [
      "Epoch 03: 100%|██████████| 264/264 [00:03<00:00, 75.47it/s, Loss=0.515, Acc=0.81] \n"
     ]
    },
    {
     "name": "stdout",
     "output_type": "stream",
     "text": [
      "\tTrain Loss: 0.522\tTrain Acc: 79.58%\n",
      "\tValid Loss: 0.565\tValid Acc: 72.48%\n",
      "\tModel parameters saved to cos_att.pt\n"
     ]
    },
    {
     "name": "stderr",
     "output_type": "stream",
     "text": [
      "Epoch 04: 100%|██████████| 264/264 [00:03<00:00, 77.59it/s, Loss=0.549, Acc=0.667]\n"
     ]
    },
    {
     "name": "stdout",
     "output_type": "stream",
     "text": [
      "\tTrain Loss: 0.455\tTrain Acc: 82.74%\n",
      "\tValid Loss: 0.530\tValid Acc: 74.89%\n",
      "\tModel parameters saved to cos_att.pt\n"
     ]
    },
    {
     "name": "stderr",
     "output_type": "stream",
     "text": [
      "Epoch 05: 100%|██████████| 264/264 [00:03<00:00, 77.17it/s, Loss=0.463, Acc=0.81] \n"
     ]
    },
    {
     "name": "stdout",
     "output_type": "stream",
     "text": [
      "\tTrain Loss: 0.405\tTrain Acc: 85.38%\n",
      "\tValid Loss: 0.503\tValid Acc: 75.80%\n",
      "\tModel parameters saved to cos_att.pt\n"
     ]
    },
    {
     "name": "stderr",
     "output_type": "stream",
     "text": [
      "Epoch 06: 100%|██████████| 264/264 [00:03<00:00, 75.63it/s, Loss=0.432, Acc=0.81] \n"
     ]
    },
    {
     "name": "stdout",
     "output_type": "stream",
     "text": [
      "\tTrain Loss: 0.365\tTrain Acc: 87.28%\n",
      "\tValid Loss: 0.484\tValid Acc: 77.64%\n",
      "\tModel parameters saved to cos_att.pt\n"
     ]
    },
    {
     "name": "stderr",
     "output_type": "stream",
     "text": [
      "Epoch 07: 100%|██████████| 264/264 [00:03<00:00, 78.78it/s, Loss=0.232, Acc=0.952]\n"
     ]
    },
    {
     "name": "stdout",
     "output_type": "stream",
     "text": [
      "\tTrain Loss: 0.333\tTrain Acc: 88.65%\n",
      "\tValid Loss: 0.470\tValid Acc: 78.78%\n",
      "\tModel parameters saved to cos_att.pt\n"
     ]
    },
    {
     "name": "stderr",
     "output_type": "stream",
     "text": [
      "Epoch 08: 100%|██████████| 264/264 [00:03<00:00, 79.99it/s, Loss=0.491, Acc=0.619]\n"
     ]
    },
    {
     "name": "stdout",
     "output_type": "stream",
     "text": [
      "\tTrain Loss: 0.307\tTrain Acc: 89.57%\n",
      "\tValid Loss: 0.460\tValid Acc: 79.70%\n",
      "\tModel parameters saved to cos_att.pt\n"
     ]
    },
    {
     "name": "stderr",
     "output_type": "stream",
     "text": [
      "Epoch 09: 100%|██████████| 264/264 [00:03<00:00, 78.34it/s, Loss=0.241, Acc=0.905]\n"
     ]
    },
    {
     "name": "stdout",
     "output_type": "stream",
     "text": [
      "\tTrain Loss: 0.286\tTrain Acc: 90.19%\n",
      "\tValid Loss: 0.452\tValid Acc: 79.70%\n",
      "\tModel parameters saved to cos_att.pt\n"
     ]
    },
    {
     "name": "stderr",
     "output_type": "stream",
     "text": [
      "Epoch 10: 100%|██████████| 264/264 [00:03<00:00, 77.23it/s, Loss=0.271, Acc=0.952]\n"
     ]
    },
    {
     "name": "stdout",
     "output_type": "stream",
     "text": [
      "\tTrain Loss: 0.269\tTrain Acc: 90.69%\n",
      "\tValid Loss: 0.447\tValid Acc: 79.70%\n",
      "\tModel parameters saved to cos_att.pt\n"
     ]
    },
    {
     "name": "stderr",
     "output_type": "stream",
     "text": [
      "Epoch 11: 100%|██████████| 264/264 [00:03<00:00, 83.04it/s, Loss=0.218, Acc=0.952]\n"
     ]
    },
    {
     "name": "stdout",
     "output_type": "stream",
     "text": [
      "\tTrain Loss: 0.254\tTrain Acc: 91.07%\n",
      "\tValid Loss: 0.444\tValid Acc: 79.93%\n",
      "\tModel parameters saved to cos_att.pt\n"
     ]
    },
    {
     "name": "stderr",
     "output_type": "stream",
     "text": [
      "Epoch 12: 100%|██████████| 264/264 [00:03<00:00, 79.07it/s, Loss=0.42, Acc=0.714] \n"
     ]
    },
    {
     "name": "stdout",
     "output_type": "stream",
     "text": [
      "\tTrain Loss: 0.241\tTrain Acc: 91.42%\n",
      "\tValid Loss: 0.441\tValid Acc: 79.82%\n",
      "\tModel parameters saved to cos_att.pt\n"
     ]
    },
    {
     "name": "stderr",
     "output_type": "stream",
     "text": [
      "Epoch 13: 100%|██████████| 264/264 [00:03<00:00, 79.61it/s, Loss=0.216, Acc=0.905]\n"
     ]
    },
    {
     "name": "stdout",
     "output_type": "stream",
     "text": [
      "\tTrain Loss: 0.230\tTrain Acc: 91.64%\n",
      "\tValid Loss: 0.439\tValid Acc: 79.82%\n",
      "\tModel parameters saved to cos_att.pt\n"
     ]
    },
    {
     "name": "stderr",
     "output_type": "stream",
     "text": [
      "Epoch 14: 100%|██████████| 264/264 [00:03<00:00, 77.42it/s, Loss=0.157, Acc=0.952]\n"
     ]
    },
    {
     "name": "stdout",
     "output_type": "stream",
     "text": [
      "\tTrain Loss: 0.221\tTrain Acc: 91.93%\n",
      "\tValid Loss: 0.439\tValid Acc: 79.93%\n",
      "\tModel parameters saved to cos_att.pt\n"
     ]
    },
    {
     "name": "stderr",
     "output_type": "stream",
     "text": [
      "Epoch 15: 100%|██████████| 264/264 [00:03<00:00, 77.37it/s, Loss=0.0798, Acc=1]   \n"
     ]
    },
    {
     "name": "stdout",
     "output_type": "stream",
     "text": [
      "\tTrain Loss: 0.212\tTrain Acc: 92.14%\n",
      "\tValid Loss: 0.438\tValid Acc: 80.05%\n",
      "\tModel parameters saved to cos_att.pt\n"
     ]
    },
    {
     "name": "stderr",
     "output_type": "stream",
     "text": [
      "Epoch 16: 100%|██████████| 264/264 [00:03<00:00, 76.08it/s, Loss=0.375, Acc=0.905]\n"
     ]
    },
    {
     "name": "stdout",
     "output_type": "stream",
     "text": [
      "\tTrain Loss: 0.205\tTrain Acc: 92.37%\n",
      "\tValid Loss: 0.439\tValid Acc: 79.93%\n"
     ]
    },
    {
     "name": "stderr",
     "output_type": "stream",
     "text": [
      "Epoch 17: 100%|██████████| 264/264 [00:03<00:00, 77.70it/s, Loss=0.535, Acc=0.762]\n"
     ]
    },
    {
     "name": "stdout",
     "output_type": "stream",
     "text": [
      "\tTrain Loss: 0.198\tTrain Acc: 92.62%\n",
      "\tValid Loss: 0.439\tValid Acc: 80.50%\n"
     ]
    },
    {
     "name": "stderr",
     "output_type": "stream",
     "text": [
      "Epoch 18: 100%|██████████| 264/264 [00:03<00:00, 82.21it/s, Loss=0.164, Acc=0.905]\n"
     ]
    },
    {
     "name": "stdout",
     "output_type": "stream",
     "text": [
      "\tTrain Loss: 0.191\tTrain Acc: 92.83%\n",
      "\tValid Loss: 0.439\tValid Acc: 80.50%\n"
     ]
    },
    {
     "name": "stderr",
     "output_type": "stream",
     "text": [
      "Epoch 19: 100%|██████████| 264/264 [00:03<00:00, 76.42it/s, Loss=0.0966, Acc=1]   \n"
     ]
    },
    {
     "name": "stdout",
     "output_type": "stream",
     "text": [
      "\tTrain Loss: 0.186\tTrain Acc: 93.02%\n",
      "\tValid Loss: 0.440\tValid Acc: 80.39%\n"
     ]
    },
    {
     "name": "stderr",
     "output_type": "stream",
     "text": [
      "Epoch 20: 100%|██████████| 264/264 [00:03<00:00, 77.74it/s, Loss=0.109, Acc=0.952]\n"
     ]
    },
    {
     "name": "stdout",
     "output_type": "stream",
     "text": [
      "\tTrain Loss: 0.180\tTrain Acc: 93.23%\n",
      "\tValid Loss: 0.441\tValid Acc: 80.39%\n"
     ]
    }
   ],
   "source": [
    "cos_att_filename = 'cos_att.pt'\n",
    "learner.train(epochs=20, filename=cos_att_filename)"
   ]
  },
  {
   "cell_type": "markdown",
   "metadata": {},
   "source": [
    "### Load best model to evaluate"
   ]
  },
  {
   "cell_type": "code",
   "execution_count": 13,
   "metadata": {},
   "outputs": [],
   "source": [
    "learner.load_model_params(cos_att_filename)"
   ]
  },
  {
   "cell_type": "code",
   "execution_count": 14,
   "metadata": {},
   "outputs": [
    {
     "name": "stdout",
     "output_type": "stream",
     "text": [
      "\t Test Loss: 0.434\t Test Acc: 79.24%\n"
     ]
    }
   ],
   "source": [
    "learner.print_test_results()"
   ]
  },
  {
   "cell_type": "markdown",
   "metadata": {},
   "source": [
    "## Cosine similarities between vector u and word embeddings"
   ]
  },
  {
   "cell_type": "code",
   "execution_count": 15,
   "metadata": {},
   "outputs": [],
   "source": [
    "att_layer = learner.model.attention\n",
    "embeddings = learner.model.embedding.weight.data\n",
    "\n",
    "cosine_similarities = pd.Series(att_layer.cosine_similarity_to_u(embeddings).detach().cpu(), index=list(vocab.itos)).sort_values()"
   ]
  },
  {
   "cell_type": "code",
   "execution_count": 16,
   "metadata": {},
   "outputs": [
    {
     "data": {
      "text/plain": [
       "never              0.996969\n",
       "disappoint         0.992830\n",
       "ignored            0.992009\n",
       "patriotic          0.991844\n",
       "bowl               0.991654\n",
       "talkiness          0.989554\n",
       "afraid             0.989487\n",
       "mcadams            0.989437\n",
       "rah-rah            0.988890\n",
       "superman           0.988618\n",
       "broadcast          0.988453\n",
       "unintentionally    0.988083\n",
       "moan               0.987819\n",
       "miss               0.987211\n",
       "wrong              0.986977\n",
       "dtype: float32"
      ]
     },
     "execution_count": 16,
     "metadata": {},
     "output_type": "execute_result"
    }
   ],
   "source": [
    "cosine_similarities.tail(15)[::-1]"
   ]
  },
  {
   "cell_type": "code",
   "execution_count": 17,
   "metadata": {},
   "outputs": [
    {
     "data": {
      "text/plain": [
       "quick         -0.999458\n",
       "adults        -0.999302\n",
       "have          -0.999283\n",
       "there         -0.999252\n",
       "jones         -0.999176\n",
       "rather        -0.999142\n",
       "time          -0.999133\n",
       "back          -0.999114\n",
       "narratively   -0.999103\n",
       "making        -0.999089\n",
       "understand    -0.999076\n",
       "segment       -0.999049\n",
       "veiling       -0.999038\n",
       "begins        -0.999025\n",
       "bit           -0.999008\n",
       "dtype: float32"
      ]
     },
     "execution_count": 17,
     "metadata": {},
     "output_type": "execute_result"
    }
   ],
   "source": [
    "cosine_similarities.head(15)"
   ]
  },
  {
   "cell_type": "markdown",
   "metadata": {},
   "source": [
    "## Attention variance among frequent words in the training set"
   ]
  },
  {
   "cell_type": "code",
   "execution_count": 18,
   "metadata": {},
   "outputs": [
    {
     "name": "stdout",
     "output_type": "stream",
     "text": [
      "669\n"
     ]
    }
   ],
   "source": [
    "MAX_FREQ = 100\n",
    "freq = vocab.df\n",
    "upper_bound = freq[freq['freq'] >= MAX_FREQ].index[-1]\n",
    "print(upper_bound)"
   ]
  },
  {
   "cell_type": "code",
   "execution_count": 19,
   "metadata": {},
   "outputs": [],
   "source": [
    "from collections import defaultdict\n",
    "\n",
    "@torch.no_grad()\n",
    "def get_attention_stats(model):\n",
    "    attentions = defaultdict(list)\n",
    "    \n",
    "    embedding_layer = model.embedding\n",
    "    dropout_layer = model.embed_dropout\n",
    "    attention_layer = model.attention\n",
    "    for tokenized, _ in learner.train_loader:\n",
    "        input_ids = tokenized['input_ids'].to(learner.device)\n",
    "        attention_mask = tokenized['attention_mask'].to(learner.device)\n",
    "        \n",
    "        embedded = dropout_layer(embedding_layer(input_ids))\n",
    "        attention = attention_layer(embedded, attention_mask)\n",
    "        \n",
    "        mask = torch.where(input_ids <= upper_bound, input_ids, 0).bool()  # Mask less frequent words as well as pads\n",
    "        masked_input_ids = torch.masked_select(input_ids, mask).tolist()\n",
    "        masked_attention = torch.masked_select(attention, mask).tolist()\n",
    "        \n",
    "        for i, att in zip(masked_input_ids, masked_attention):\n",
    "            attentions[i].append(att)\n",
    "        \n",
    "    return attentions"
   ]
  },
  {
   "cell_type": "code",
   "execution_count": 20,
   "metadata": {},
   "outputs": [
    {
     "name": "stdout",
     "output_type": "stream",
     "text": [
      "668\n"
     ]
    }
   ],
   "source": [
    "stats = get_attention_stats(learner.model)\n",
    "df = pd.DataFrame(columns=['word', 'mean', 'std'])\n",
    "for k, v in stats.items():\n",
    "    attentions = torch.Tensor(v)\n",
    "    df = df.append({'word': vocab.itos[k], 'mean': attentions.mean().item(), 'std': attentions.std().item()}, ignore_index=True)\n",
    "print(len(df))  # indexed from 2 ~ upper_bound, should be upper_bound - 2 + 1"
   ]
  },
  {
   "cell_type": "code",
   "execution_count": 21,
   "metadata": {},
   "outputs": [
    {
     "data": {
      "text/html": [
       "<div>\n",
       "<style scoped>\n",
       "    .dataframe tbody tr th:only-of-type {\n",
       "        vertical-align: middle;\n",
       "    }\n",
       "\n",
       "    .dataframe tbody tr th {\n",
       "        vertical-align: top;\n",
       "    }\n",
       "\n",
       "    .dataframe thead th {\n",
       "        text-align: right;\n",
       "    }\n",
       "</style>\n",
       "<table border=\"1\" class=\"dataframe\">\n",
       "  <thead>\n",
       "    <tr style=\"text-align: right;\">\n",
       "      <th></th>\n",
       "      <th>mean</th>\n",
       "      <th>std</th>\n",
       "    </tr>\n",
       "    <tr>\n",
       "      <th>word</th>\n",
       "      <th></th>\n",
       "      <th></th>\n",
       "    </tr>\n",
       "  </thead>\n",
       "  <tbody>\n",
       "    <tr>\n",
       "      <th>bland</th>\n",
       "      <td>0.346257</td>\n",
       "      <td>0.265820</td>\n",
       "    </tr>\n",
       "    <tr>\n",
       "      <th>stupid</th>\n",
       "      <td>0.385331</td>\n",
       "      <td>0.265657</td>\n",
       "    </tr>\n",
       "    <tr>\n",
       "      <th>awful</th>\n",
       "      <td>0.413376</td>\n",
       "      <td>0.255618</td>\n",
       "    </tr>\n",
       "    <tr>\n",
       "      <th>painful</th>\n",
       "      <td>0.372556</td>\n",
       "      <td>0.252404</td>\n",
       "    </tr>\n",
       "    <tr>\n",
       "      <th>tedious</th>\n",
       "      <td>0.325079</td>\n",
       "      <td>0.248903</td>\n",
       "    </tr>\n",
       "    <tr>\n",
       "      <th>flat</th>\n",
       "      <td>0.327273</td>\n",
       "      <td>0.245703</td>\n",
       "    </tr>\n",
       "    <tr>\n",
       "      <th>creepy</th>\n",
       "      <td>0.332419</td>\n",
       "      <td>0.236097</td>\n",
       "    </tr>\n",
       "    <tr>\n",
       "      <th>worse</th>\n",
       "      <td>0.296377</td>\n",
       "      <td>0.235868</td>\n",
       "    </tr>\n",
       "    <tr>\n",
       "      <th>waste</th>\n",
       "      <td>0.378752</td>\n",
       "      <td>0.235385</td>\n",
       "    </tr>\n",
       "    <tr>\n",
       "      <th>unfunny</th>\n",
       "      <td>0.335676</td>\n",
       "      <td>0.233512</td>\n",
       "    </tr>\n",
       "    <tr>\n",
       "      <th>boring</th>\n",
       "      <td>0.337892</td>\n",
       "      <td>0.232801</td>\n",
       "    </tr>\n",
       "    <tr>\n",
       "      <th>bad</th>\n",
       "      <td>0.347086</td>\n",
       "      <td>0.231796</td>\n",
       "    </tr>\n",
       "    <tr>\n",
       "      <th>tired</th>\n",
       "      <td>0.367621</td>\n",
       "      <td>0.230907</td>\n",
       "    </tr>\n",
       "    <tr>\n",
       "      <th>hackneyed</th>\n",
       "      <td>0.307232</td>\n",
       "      <td>0.230533</td>\n",
       "    </tr>\n",
       "    <tr>\n",
       "      <th>mess</th>\n",
       "      <td>0.387299</td>\n",
       "      <td>0.228345</td>\n",
       "    </tr>\n",
       "    <tr>\n",
       "      <th>lacking</th>\n",
       "      <td>0.347283</td>\n",
       "      <td>0.227518</td>\n",
       "    </tr>\n",
       "    <tr>\n",
       "      <th>worst</th>\n",
       "      <td>0.369018</td>\n",
       "      <td>0.222505</td>\n",
       "    </tr>\n",
       "    <tr>\n",
       "      <th>unsettling</th>\n",
       "      <td>0.381576</td>\n",
       "      <td>0.221678</td>\n",
       "    </tr>\n",
       "    <tr>\n",
       "      <th>dumb</th>\n",
       "      <td>0.337494</td>\n",
       "      <td>0.220777</td>\n",
       "    </tr>\n",
       "    <tr>\n",
       "      <th>tragedy</th>\n",
       "      <td>0.297227</td>\n",
       "      <td>0.218020</td>\n",
       "    </tr>\n",
       "    <tr>\n",
       "      <th>impossible</th>\n",
       "      <td>0.302223</td>\n",
       "      <td>0.216868</td>\n",
       "    </tr>\n",
       "    <tr>\n",
       "      <th>lacks</th>\n",
       "      <td>0.382707</td>\n",
       "      <td>0.216808</td>\n",
       "    </tr>\n",
       "    <tr>\n",
       "      <th>dull</th>\n",
       "      <td>0.348571</td>\n",
       "      <td>0.216652</td>\n",
       "    </tr>\n",
       "    <tr>\n",
       "      <th>shallow</th>\n",
       "      <td>0.306856</td>\n",
       "      <td>0.215912</td>\n",
       "    </tr>\n",
       "    <tr>\n",
       "      <th>pretentious</th>\n",
       "      <td>0.319199</td>\n",
       "      <td>0.214811</td>\n",
       "    </tr>\n",
       "    <tr>\n",
       "      <th>death</th>\n",
       "      <td>0.271942</td>\n",
       "      <td>0.212622</td>\n",
       "    </tr>\n",
       "    <tr>\n",
       "      <th>slow</th>\n",
       "      <td>0.342638</td>\n",
       "      <td>0.211525</td>\n",
       "    </tr>\n",
       "    <tr>\n",
       "      <th>cold</th>\n",
       "      <td>0.331609</td>\n",
       "      <td>0.210278</td>\n",
       "    </tr>\n",
       "    <tr>\n",
       "      <th>fails</th>\n",
       "      <td>0.320970</td>\n",
       "      <td>0.209626</td>\n",
       "    </tr>\n",
       "    <tr>\n",
       "      <th>cheap</th>\n",
       "      <td>0.297314</td>\n",
       "      <td>0.209507</td>\n",
       "    </tr>\n",
       "  </tbody>\n",
       "</table>\n",
       "</div>"
      ],
      "text/plain": [
       "                 mean       std\n",
       "word                           \n",
       "bland        0.346257  0.265820\n",
       "stupid       0.385331  0.265657\n",
       "awful        0.413376  0.255618\n",
       "painful      0.372556  0.252404\n",
       "tedious      0.325079  0.248903\n",
       "flat         0.327273  0.245703\n",
       "creepy       0.332419  0.236097\n",
       "worse        0.296377  0.235868\n",
       "waste        0.378752  0.235385\n",
       "unfunny      0.335676  0.233512\n",
       "boring       0.337892  0.232801\n",
       "bad          0.347086  0.231796\n",
       "tired        0.367621  0.230907\n",
       "hackneyed    0.307232  0.230533\n",
       "mess         0.387299  0.228345\n",
       "lacking      0.347283  0.227518\n",
       "worst        0.369018  0.222505\n",
       "unsettling   0.381576  0.221678\n",
       "dumb         0.337494  0.220777\n",
       "tragedy      0.297227  0.218020\n",
       "impossible   0.302223  0.216868\n",
       "lacks        0.382707  0.216808\n",
       "dull         0.348571  0.216652\n",
       "shallow      0.306856  0.215912\n",
       "pretentious  0.319199  0.214811\n",
       "death        0.271942  0.212622\n",
       "slow         0.342638  0.211525\n",
       "cold         0.331609  0.210278\n",
       "fails        0.320970  0.209626\n",
       "cheap        0.297314  0.209507"
      ]
     },
     "execution_count": 21,
     "metadata": {},
     "output_type": "execute_result"
    }
   ],
   "source": [
    "df = df.sort_values('std', ascending=False)\n",
    "df = df.set_index('word', drop=True)\n",
    "df.head(30)"
   ]
  },
  {
   "cell_type": "markdown",
   "metadata": {},
   "source": [
    "# Attention weighted word averaging model\n",
    "## w/ dot product self-attention"
   ]
  },
  {
   "cell_type": "markdown",
   "metadata": {},
   "source": [
    "### Load model and learner"
   ]
  },
  {
   "cell_type": "code",
   "execution_count": 22,
   "metadata": {},
   "outputs": [],
   "source": [
    "dp_att = AttentionWeightedWordAveragingModel(len(vocab), embed_dim=EMBED_DIM, attention=dot_product_self_attention, embed_dropout=DROPOUT)\n",
    "learner = get_learner(model=dp_att, lr=5e-5)"
   ]
  },
  {
   "cell_type": "markdown",
   "metadata": {},
   "source": [
    "### Train model"
   ]
  },
  {
   "cell_type": "code",
   "execution_count": 23,
   "metadata": {},
   "outputs": [
    {
     "name": "stderr",
     "output_type": "stream",
     "text": [
      "Epoch 01: 100%|██████████| 264/264 [00:03<00:00, 81.42it/s, Loss=0.676, Acc=0.619]\n"
     ]
    },
    {
     "name": "stdout",
     "output_type": "stream",
     "text": [
      "\tTrain Loss: 0.687\tTrain Acc: 55.88%\n",
      "\tValid Loss: 0.688\tValid Acc: 51.03%\n",
      "\tModel parameters saved to dp_att.pt\n"
     ]
    },
    {
     "name": "stderr",
     "output_type": "stream",
     "text": [
      "Epoch 02: 100%|██████████| 264/264 [00:03<00:00, 78.62it/s, Loss=0.674, Acc=0.667]\n"
     ]
    },
    {
     "name": "stdout",
     "output_type": "stream",
     "text": [
      "\tTrain Loss: 0.671\tTrain Acc: 58.85%\n",
      "\tValid Loss: 0.672\tValid Acc: 55.16%\n",
      "\tModel parameters saved to dp_att.pt\n"
     ]
    },
    {
     "name": "stderr",
     "output_type": "stream",
     "text": [
      "Epoch 03: 100%|██████████| 264/264 [00:03<00:00, 84.46it/s, Loss=0.602, Acc=0.619]\n"
     ]
    },
    {
     "name": "stdout",
     "output_type": "stream",
     "text": [
      "\tTrain Loss: 0.641\tTrain Acc: 67.97%\n",
      "\tValid Loss: 0.633\tValid Acc: 67.55%\n",
      "\tModel parameters saved to dp_att.pt\n"
     ]
    },
    {
     "name": "stderr",
     "output_type": "stream",
     "text": [
      "Epoch 04: 100%|██████████| 264/264 [00:03<00:00, 78.94it/s, Loss=0.56, Acc=0.81]  \n"
     ]
    },
    {
     "name": "stdout",
     "output_type": "stream",
     "text": [
      "\tTrain Loss: 0.594\tTrain Acc: 75.65%\n",
      "\tValid Loss: 0.580\tValid Acc: 74.08%\n",
      "\tModel parameters saved to dp_att.pt\n"
     ]
    },
    {
     "name": "stderr",
     "output_type": "stream",
     "text": [
      "Epoch 05: 100%|██████████| 264/264 [00:03<00:00, 82.61it/s, Loss=0.443, Acc=0.905]\n"
     ]
    },
    {
     "name": "stdout",
     "output_type": "stream",
     "text": [
      "\tTrain Loss: 0.543\tTrain Acc: 79.29%\n",
      "\tValid Loss: 0.541\tValid Acc: 75.57%\n",
      "\tModel parameters saved to dp_att.pt\n"
     ]
    },
    {
     "name": "stderr",
     "output_type": "stream",
     "text": [
      "Epoch 06: 100%|██████████| 264/264 [00:03<00:00, 80.92it/s, Loss=0.529, Acc=0.857]\n"
     ]
    },
    {
     "name": "stdout",
     "output_type": "stream",
     "text": [
      "\tTrain Loss: 0.498\tTrain Acc: 81.57%\n",
      "\tValid Loss: 0.513\tValid Acc: 77.06%\n",
      "\tModel parameters saved to dp_att.pt\n"
     ]
    },
    {
     "name": "stderr",
     "output_type": "stream",
     "text": [
      "Epoch 07: 100%|██████████| 264/264 [00:03<00:00, 79.02it/s, Loss=0.374, Acc=0.81] \n"
     ]
    },
    {
     "name": "stdout",
     "output_type": "stream",
     "text": [
      "\tTrain Loss: 0.458\tTrain Acc: 83.58%\n",
      "\tValid Loss: 0.493\tValid Acc: 78.10%\n",
      "\tModel parameters saved to dp_att.pt\n"
     ]
    },
    {
     "name": "stderr",
     "output_type": "stream",
     "text": [
      "Epoch 08: 100%|██████████| 264/264 [00:03<00:00, 77.66it/s, Loss=0.325, Acc=0.952]\n"
     ]
    },
    {
     "name": "stdout",
     "output_type": "stream",
     "text": [
      "\tTrain Loss: 0.423\tTrain Acc: 85.05%\n",
      "\tValid Loss: 0.478\tValid Acc: 77.29%\n",
      "\tModel parameters saved to dp_att.pt\n"
     ]
    },
    {
     "name": "stderr",
     "output_type": "stream",
     "text": [
      "Epoch 09: 100%|██████████| 264/264 [00:03<00:00, 84.68it/s, Loss=0.612, Acc=0.667]\n"
     ]
    },
    {
     "name": "stdout",
     "output_type": "stream",
     "text": [
      "\tTrain Loss: 0.392\tTrain Acc: 86.32%\n",
      "\tValid Loss: 0.467\tValid Acc: 78.33%\n",
      "\tModel parameters saved to dp_att.pt\n"
     ]
    },
    {
     "name": "stderr",
     "output_type": "stream",
     "text": [
      "Epoch 10: 100%|██████████| 264/264 [00:03<00:00, 80.22it/s, Loss=0.39, Acc=0.857] \n"
     ]
    },
    {
     "name": "stdout",
     "output_type": "stream",
     "text": [
      "\tTrain Loss: 0.366\tTrain Acc: 87.39%\n",
      "\tValid Loss: 0.459\tValid Acc: 78.67%\n",
      "\tModel parameters saved to dp_att.pt\n"
     ]
    },
    {
     "name": "stderr",
     "output_type": "stream",
     "text": [
      "Epoch 11: 100%|██████████| 264/264 [00:03<00:00, 80.07it/s, Loss=0.312, Acc=0.905]\n"
     ]
    },
    {
     "name": "stdout",
     "output_type": "stream",
     "text": [
      "\tTrain Loss: 0.343\tTrain Acc: 88.32%\n",
      "\tValid Loss: 0.453\tValid Acc: 79.01%\n",
      "\tModel parameters saved to dp_att.pt\n"
     ]
    },
    {
     "name": "stderr",
     "output_type": "stream",
     "text": [
      "Epoch 12: 100%|██████████| 264/264 [00:03<00:00, 85.12it/s, Loss=0.39, Acc=0.81]  \n"
     ]
    },
    {
     "name": "stdout",
     "output_type": "stream",
     "text": [
      "\tTrain Loss: 0.324\tTrain Acc: 89.04%\n",
      "\tValid Loss: 0.449\tValid Acc: 79.93%\n",
      "\tModel parameters saved to dp_att.pt\n"
     ]
    },
    {
     "name": "stderr",
     "output_type": "stream",
     "text": [
      "Epoch 13: 100%|██████████| 264/264 [00:03<00:00, 80.85it/s, Loss=0.277, Acc=0.905]\n"
     ]
    },
    {
     "name": "stdout",
     "output_type": "stream",
     "text": [
      "\tTrain Loss: 0.306\tTrain Acc: 89.65%\n",
      "\tValid Loss: 0.447\tValid Acc: 80.28%\n",
      "\tModel parameters saved to dp_att.pt\n"
     ]
    },
    {
     "name": "stderr",
     "output_type": "stream",
     "text": [
      "Epoch 14: 100%|██████████| 264/264 [00:03<00:00, 79.43it/s, Loss=0.261, Acc=0.905]\n"
     ]
    },
    {
     "name": "stdout",
     "output_type": "stream",
     "text": [
      "\tTrain Loss: 0.291\tTrain Acc: 90.17%\n",
      "\tValid Loss: 0.446\tValid Acc: 80.50%\n",
      "\tModel parameters saved to dp_att.pt\n"
     ]
    },
    {
     "name": "stderr",
     "output_type": "stream",
     "text": [
      "Epoch 15: 100%|██████████| 264/264 [00:03<00:00, 79.23it/s, Loss=0.289, Acc=0.81] \n"
     ]
    },
    {
     "name": "stdout",
     "output_type": "stream",
     "text": [
      "\tTrain Loss: 0.277\tTrain Acc: 90.54%\n",
      "\tValid Loss: 0.447\tValid Acc: 80.50%\n"
     ]
    },
    {
     "name": "stderr",
     "output_type": "stream",
     "text": [
      "Epoch 16: 100%|██████████| 264/264 [00:03<00:00, 82.67it/s, Loss=0.395, Acc=0.905]\n"
     ]
    },
    {
     "name": "stdout",
     "output_type": "stream",
     "text": [
      "\tTrain Loss: 0.265\tTrain Acc: 90.94%\n",
      "\tValid Loss: 0.448\tValid Acc: 80.28%\n"
     ]
    },
    {
     "name": "stderr",
     "output_type": "stream",
     "text": [
      "Epoch 17: 100%|██████████| 264/264 [00:03<00:00, 83.59it/s, Loss=0.217, Acc=0.952]\n"
     ]
    },
    {
     "name": "stdout",
     "output_type": "stream",
     "text": [
      "\tTrain Loss: 0.254\tTrain Acc: 91.30%\n",
      "\tValid Loss: 0.450\tValid Acc: 80.28%\n"
     ]
    },
    {
     "name": "stderr",
     "output_type": "stream",
     "text": [
      "Epoch 18: 100%|██████████| 264/264 [00:03<00:00, 79.70it/s, Loss=0.197, Acc=0.952]\n"
     ]
    },
    {
     "name": "stdout",
     "output_type": "stream",
     "text": [
      "\tTrain Loss: 0.244\tTrain Acc: 91.64%\n",
      "\tValid Loss: 0.452\tValid Acc: 80.62%\n"
     ]
    },
    {
     "name": "stderr",
     "output_type": "stream",
     "text": [
      "Epoch 19: 100%|██████████| 264/264 [00:03<00:00, 84.77it/s, Loss=0.239, Acc=0.857]\n"
     ]
    },
    {
     "name": "stdout",
     "output_type": "stream",
     "text": [
      "\tTrain Loss: 0.235\tTrain Acc: 91.94%\n",
      "\tValid Loss: 0.455\tValid Acc: 81.08%\n"
     ]
    },
    {
     "name": "stderr",
     "output_type": "stream",
     "text": [
      "Epoch 20: 100%|██████████| 264/264 [00:03<00:00, 80.11it/s, Loss=0.227, Acc=0.905]\n"
     ]
    },
    {
     "name": "stdout",
     "output_type": "stream",
     "text": [
      "\tTrain Loss: 0.227\tTrain Acc: 92.17%\n",
      "\tValid Loss: 0.458\tValid Acc: 81.08%\n"
     ]
    }
   ],
   "source": [
    "dp_att_filename = 'dp_att.pt'\n",
    "learner.train(epochs=20, filename=dp_att_filename)"
   ]
  },
  {
   "cell_type": "markdown",
   "metadata": {},
   "source": [
    "### Load best model to evaluate"
   ]
  },
  {
   "cell_type": "code",
   "execution_count": 24,
   "metadata": {},
   "outputs": [],
   "source": [
    "learner.load_model_params(dp_att_filename)"
   ]
  },
  {
   "cell_type": "code",
   "execution_count": 25,
   "metadata": {},
   "outputs": [
    {
     "name": "stdout",
     "output_type": "stream",
     "text": [
      "\t Test Loss: 0.414\t Test Acc: 80.94%\n"
     ]
    }
   ],
   "source": [
    "learner.print_test_results()"
   ]
  },
  {
   "cell_type": "markdown",
   "metadata": {},
   "source": [
    "# Attention weighted word averaging model\n",
    "## w/ dot product self-attention\n",
    "## adding residual connection"
   ]
  },
  {
   "cell_type": "markdown",
   "metadata": {},
   "source": [
    "### Load model and learner"
   ]
  },
  {
   "cell_type": "code",
   "execution_count": 26,
   "metadata": {},
   "outputs": [],
   "source": [
    "dp_att_rc = AttentionWeightedWordAveragingModel(len(vocab), embed_dim=EMBED_DIM, attention=dot_product_self_attention, res_conn=True, embed_dropout=DROPOUT)\n",
    "learner = get_learner(model=dp_att_rc, lr=5e-5)"
   ]
  },
  {
   "cell_type": "markdown",
   "metadata": {},
   "source": [
    "### Train model"
   ]
  },
  {
   "cell_type": "code",
   "execution_count": 27,
   "metadata": {},
   "outputs": [
    {
     "name": "stderr",
     "output_type": "stream",
     "text": [
      "Epoch 01: 100%|██████████| 264/264 [00:03<00:00, 80.41it/s, Loss=0.675, Acc=0.714]\n"
     ]
    },
    {
     "name": "stdout",
     "output_type": "stream",
     "text": [
      "\tTrain Loss: 0.688\tTrain Acc: 57.23%\n",
      "\tValid Loss: 0.683\tValid Acc: 66.63%\n",
      "\tModel parameters saved to dp_att_rc.pt\n"
     ]
    },
    {
     "name": "stderr",
     "output_type": "stream",
     "text": [
      "Epoch 02: 100%|██████████| 264/264 [00:03<00:00, 74.81it/s, Loss=0.651, Acc=0.714]\n"
     ]
    },
    {
     "name": "stdout",
     "output_type": "stream",
     "text": [
      "\tTrain Loss: 0.660\tTrain Acc: 70.23%\n",
      "\tValid Loss: 0.662\tValid Acc: 59.52%\n",
      "\tModel parameters saved to dp_att_rc.pt\n"
     ]
    },
    {
     "name": "stderr",
     "output_type": "stream",
     "text": [
      "Epoch 03: 100%|██████████| 264/264 [00:03<00:00, 76.75it/s, Loss=0.646, Acc=0.667]\n"
     ]
    },
    {
     "name": "stdout",
     "output_type": "stream",
     "text": [
      "\tTrain Loss: 0.620\tTrain Acc: 72.27%\n",
      "\tValid Loss: 0.630\tValid Acc: 65.71%\n",
      "\tModel parameters saved to dp_att_rc.pt\n"
     ]
    },
    {
     "name": "stderr",
     "output_type": "stream",
     "text": [
      "Epoch 04: 100%|██████████| 264/264 [00:03<00:00, 82.50it/s, Loss=0.55, Acc=0.81]  \n"
     ]
    },
    {
     "name": "stdout",
     "output_type": "stream",
     "text": [
      "\tTrain Loss: 0.570\tTrain Acc: 77.27%\n",
      "\tValid Loss: 0.585\tValid Acc: 73.39%\n",
      "\tModel parameters saved to dp_att_rc.pt\n"
     ]
    },
    {
     "name": "stderr",
     "output_type": "stream",
     "text": [
      "Epoch 05: 100%|██████████| 264/264 [00:03<00:00, 73.64it/s, Loss=0.465, Acc=0.857]\n"
     ]
    },
    {
     "name": "stdout",
     "output_type": "stream",
     "text": [
      "\tTrain Loss: 0.517\tTrain Acc: 81.15%\n",
      "\tValid Loss: 0.544\tValid Acc: 76.83%\n",
      "\tModel parameters saved to dp_att_rc.pt\n"
     ]
    },
    {
     "name": "stderr",
     "output_type": "stream",
     "text": [
      "Epoch 06: 100%|██████████| 264/264 [00:03<00:00, 78.75it/s, Loss=0.461, Acc=0.762]\n"
     ]
    },
    {
     "name": "stdout",
     "output_type": "stream",
     "text": [
      "\tTrain Loss: 0.467\tTrain Acc: 83.66%\n",
      "\tValid Loss: 0.513\tValid Acc: 77.75%\n",
      "\tModel parameters saved to dp_att_rc.pt\n"
     ]
    },
    {
     "name": "stderr",
     "output_type": "stream",
     "text": [
      "Epoch 07: 100%|██████████| 264/264 [00:03<00:00, 75.70it/s, Loss=0.394, Acc=0.857]\n"
     ]
    },
    {
     "name": "stdout",
     "output_type": "stream",
     "text": [
      "\tTrain Loss: 0.425\tTrain Acc: 85.50%\n",
      "\tValid Loss: 0.489\tValid Acc: 78.21%\n",
      "\tModel parameters saved to dp_att_rc.pt\n"
     ]
    },
    {
     "name": "stderr",
     "output_type": "stream",
     "text": [
      "Epoch 08: 100%|██████████| 264/264 [00:03<00:00, 78.33it/s, Loss=0.281, Acc=0.905]\n"
     ]
    },
    {
     "name": "stdout",
     "output_type": "stream",
     "text": [
      "\tTrain Loss: 0.389\tTrain Acc: 86.92%\n",
      "\tValid Loss: 0.472\tValid Acc: 78.90%\n",
      "\tModel parameters saved to dp_att_rc.pt\n"
     ]
    },
    {
     "name": "stderr",
     "output_type": "stream",
     "text": [
      "Epoch 09: 100%|██████████| 264/264 [00:03<00:00, 78.77it/s, Loss=0.283, Acc=0.952]\n"
     ]
    },
    {
     "name": "stdout",
     "output_type": "stream",
     "text": [
      "\tTrain Loss: 0.358\tTrain Acc: 88.09%\n",
      "\tValid Loss: 0.459\tValid Acc: 79.70%\n",
      "\tModel parameters saved to dp_att_rc.pt\n"
     ]
    },
    {
     "name": "stderr",
     "output_type": "stream",
     "text": [
      "Epoch 10: 100%|██████████| 264/264 [00:03<00:00, 79.78it/s, Loss=0.31, Acc=0.81]  \n"
     ]
    },
    {
     "name": "stdout",
     "output_type": "stream",
     "text": [
      "\tTrain Loss: 0.333\tTrain Acc: 88.94%\n",
      "\tValid Loss: 0.450\tValid Acc: 79.82%\n",
      "\tModel parameters saved to dp_att_rc.pt\n"
     ]
    },
    {
     "name": "stderr",
     "output_type": "stream",
     "text": [
      "Epoch 11: 100%|██████████| 264/264 [00:03<00:00, 81.88it/s, Loss=0.299, Acc=0.905]\n"
     ]
    },
    {
     "name": "stdout",
     "output_type": "stream",
     "text": [
      "\tTrain Loss: 0.311\tTrain Acc: 89.59%\n",
      "\tValid Loss: 0.443\tValid Acc: 80.62%\n",
      "\tModel parameters saved to dp_att_rc.pt\n"
     ]
    },
    {
     "name": "stderr",
     "output_type": "stream",
     "text": [
      "Epoch 12: 100%|██████████| 264/264 [00:03<00:00, 81.70it/s, Loss=0.397, Acc=0.762]\n"
     ]
    },
    {
     "name": "stdout",
     "output_type": "stream",
     "text": [
      "\tTrain Loss: 0.293\tTrain Acc: 90.20%\n",
      "\tValid Loss: 0.438\tValid Acc: 80.85%\n",
      "\tModel parameters saved to dp_att_rc.pt\n"
     ]
    },
    {
     "name": "stderr",
     "output_type": "stream",
     "text": [
      "Epoch 13: 100%|██████████| 264/264 [00:03<00:00, 76.65it/s, Loss=0.207, Acc=0.952]\n"
     ]
    },
    {
     "name": "stdout",
     "output_type": "stream",
     "text": [
      "\tTrain Loss: 0.276\tTrain Acc: 90.68%\n",
      "\tValid Loss: 0.435\tValid Acc: 80.96%\n",
      "\tModel parameters saved to dp_att_rc.pt\n"
     ]
    },
    {
     "name": "stderr",
     "output_type": "stream",
     "text": [
      "Epoch 14: 100%|██████████| 264/264 [00:03<00:00, 82.94it/s, Loss=0.351, Acc=0.857]\n"
     ]
    },
    {
     "name": "stdout",
     "output_type": "stream",
     "text": [
      "\tTrain Loss: 0.262\tTrain Acc: 91.13%\n",
      "\tValid Loss: 0.434\tValid Acc: 80.73%\n",
      "\tModel parameters saved to dp_att_rc.pt\n"
     ]
    },
    {
     "name": "stderr",
     "output_type": "stream",
     "text": [
      "Epoch 15: 100%|██████████| 264/264 [00:03<00:00, 78.87it/s, Loss=0.16, Acc=1]     \n"
     ]
    },
    {
     "name": "stdout",
     "output_type": "stream",
     "text": [
      "\tTrain Loss: 0.250\tTrain Acc: 91.50%\n",
      "\tValid Loss: 0.434\tValid Acc: 80.85%\n",
      "\tModel parameters saved to dp_att_rc.pt\n"
     ]
    },
    {
     "name": "stderr",
     "output_type": "stream",
     "text": [
      "Epoch 16: 100%|██████████| 264/264 [00:03<00:00, 79.24it/s, Loss=0.175, Acc=0.952]\n"
     ]
    },
    {
     "name": "stdout",
     "output_type": "stream",
     "text": [
      "\tTrain Loss: 0.239\tTrain Acc: 91.88%\n",
      "\tValid Loss: 0.434\tValid Acc: 80.85%\n"
     ]
    },
    {
     "name": "stderr",
     "output_type": "stream",
     "text": [
      "Epoch 17: 100%|██████████| 264/264 [00:03<00:00, 80.76it/s, Loss=0.122, Acc=1]    \n"
     ]
    },
    {
     "name": "stdout",
     "output_type": "stream",
     "text": [
      "\tTrain Loss: 0.229\tTrain Acc: 92.16%\n",
      "\tValid Loss: 0.436\tValid Acc: 81.08%\n"
     ]
    },
    {
     "name": "stderr",
     "output_type": "stream",
     "text": [
      "Epoch 18: 100%|██████████| 264/264 [00:03<00:00, 78.86it/s, Loss=0.136, Acc=0.952]\n"
     ]
    },
    {
     "name": "stdout",
     "output_type": "stream",
     "text": [
      "\tTrain Loss: 0.220\tTrain Acc: 92.44%\n",
      "\tValid Loss: 0.437\tValid Acc: 81.31%\n"
     ]
    },
    {
     "name": "stderr",
     "output_type": "stream",
     "text": [
      "Epoch 19: 100%|██████████| 264/264 [00:03<00:00, 80.62it/s, Loss=0.183, Acc=0.952]\n"
     ]
    },
    {
     "name": "stdout",
     "output_type": "stream",
     "text": [
      "\tTrain Loss: 0.212\tTrain Acc: 92.65%\n",
      "\tValid Loss: 0.440\tValid Acc: 81.19%\n"
     ]
    },
    {
     "name": "stderr",
     "output_type": "stream",
     "text": [
      "Epoch 20: 100%|██████████| 264/264 [00:03<00:00, 79.65it/s, Loss=0.115, Acc=1]    \n"
     ]
    },
    {
     "name": "stdout",
     "output_type": "stream",
     "text": [
      "\tTrain Loss: 0.205\tTrain Acc: 92.85%\n",
      "\tValid Loss: 0.442\tValid Acc: 81.31%\n"
     ]
    }
   ],
   "source": [
    "dp_att_rc_filename = 'dp_att_rc.pt'\n",
    "learner.train(epochs=20, filename=dp_att_rc_filename)"
   ]
  },
  {
   "cell_type": "markdown",
   "metadata": {},
   "source": [
    "### Load best model to evaluate"
   ]
  },
  {
   "cell_type": "code",
   "execution_count": 28,
   "metadata": {},
   "outputs": [],
   "source": [
    "learner.load_model_params(dp_att_rc_filename)"
   ]
  },
  {
   "cell_type": "code",
   "execution_count": 29,
   "metadata": {},
   "outputs": [
    {
     "name": "stdout",
     "output_type": "stream",
     "text": [
      "\t Test Loss: 0.405\t Test Acc: 81.88%\n"
     ]
    }
   ],
   "source": [
    "learner.print_test_results()"
   ]
  },
  {
   "cell_type": "markdown",
   "metadata": {},
   "source": [
    "# Transformer style attention model\n",
    "## w/ single attention head"
   ]
  },
  {
   "cell_type": "markdown",
   "metadata": {},
   "source": [
    "### Load model and learner"
   ]
  },
  {
   "cell_type": "code",
   "execution_count": 30,
   "metadata": {},
   "outputs": [],
   "source": [
    "single_head = MultiHeadSelfAttentionModel(len(vocab), model_dim=EMBED_DIM, num_heads=1, embed_dropout=DROPOUT, attention_dropout=DROPOUT)\n",
    "learner = get_learner(model=single_head, lr=5e-6)"
   ]
  },
  {
   "cell_type": "markdown",
   "metadata": {},
   "source": [
    "### Train model"
   ]
  },
  {
   "cell_type": "code",
   "execution_count": 31,
   "metadata": {},
   "outputs": [
    {
     "name": "stderr",
     "output_type": "stream",
     "text": [
      "Epoch 01: 100%|██████████| 264/264 [00:04<00:00, 52.97it/s, Loss=0.778, Acc=0.333]\n"
     ]
    },
    {
     "name": "stdout",
     "output_type": "stream",
     "text": [
      "\tTrain Loss: 0.793\tTrain Acc: 44.24%\n",
      "\tValid Loss: 0.714\tValid Acc: 49.08%\n",
      "\tModel parameters saved to single_head.pt\n"
     ]
    },
    {
     "name": "stderr",
     "output_type": "stream",
     "text": [
      "Epoch 02: 100%|██████████| 264/264 [00:04<00:00, 53.48it/s, Loss=0.596, Acc=0.81] \n"
     ]
    },
    {
     "name": "stdout",
     "output_type": "stream",
     "text": [
      "\tTrain Loss: 0.682\tTrain Acc: 56.32%\n",
      "\tValid Loss: 0.660\tValid Acc: 61.47%\n",
      "\tModel parameters saved to single_head.pt\n"
     ]
    },
    {
     "name": "stderr",
     "output_type": "stream",
     "text": [
      "Epoch 03: 100%|██████████| 264/264 [00:05<00:00, 52.46it/s, Loss=0.578, Acc=0.714]\n"
     ]
    },
    {
     "name": "stdout",
     "output_type": "stream",
     "text": [
      "\tTrain Loss: 0.612\tTrain Acc: 69.16%\n",
      "\tValid Loss: 0.628\tValid Acc: 59.75%\n",
      "\tModel parameters saved to single_head.pt\n"
     ]
    },
    {
     "name": "stderr",
     "output_type": "stream",
     "text": [
      "Epoch 04: 100%|██████████| 264/264 [00:05<00:00, 51.80it/s, Loss=0.541, Acc=0.714]\n"
     ]
    },
    {
     "name": "stdout",
     "output_type": "stream",
     "text": [
      "\tTrain Loss: 0.536\tTrain Acc: 75.88%\n",
      "\tValid Loss: 0.568\tValid Acc: 70.76%\n",
      "\tModel parameters saved to single_head.pt\n"
     ]
    },
    {
     "name": "stderr",
     "output_type": "stream",
     "text": [
      "Epoch 05: 100%|██████████| 264/264 [00:04<00:00, 54.11it/s, Loss=0.427, Acc=0.762]\n"
     ]
    },
    {
     "name": "stdout",
     "output_type": "stream",
     "text": [
      "\tTrain Loss: 0.451\tTrain Acc: 83.81%\n",
      "\tValid Loss: 0.511\tValid Acc: 77.87%\n",
      "\tModel parameters saved to single_head.pt\n"
     ]
    },
    {
     "name": "stderr",
     "output_type": "stream",
     "text": [
      "Epoch 06: 100%|██████████| 264/264 [00:04<00:00, 55.12it/s, Loss=0.346, Acc=0.905]\n"
     ]
    },
    {
     "name": "stdout",
     "output_type": "stream",
     "text": [
      "\tTrain Loss: 0.377\tTrain Acc: 87.46%\n",
      "\tValid Loss: 0.471\tValid Acc: 79.59%\n",
      "\tModel parameters saved to single_head.pt\n"
     ]
    },
    {
     "name": "stderr",
     "output_type": "stream",
     "text": [
      "Epoch 07: 100%|██████████| 264/264 [00:04<00:00, 53.15it/s, Loss=0.356, Acc=0.857]\n"
     ]
    },
    {
     "name": "stdout",
     "output_type": "stream",
     "text": [
      "\tTrain Loss: 0.324\tTrain Acc: 89.25%\n",
      "\tValid Loss: 0.443\tValid Acc: 80.85%\n",
      "\tModel parameters saved to single_head.pt\n"
     ]
    },
    {
     "name": "stderr",
     "output_type": "stream",
     "text": [
      "Epoch 08: 100%|██████████| 264/264 [00:04<00:00, 54.75it/s, Loss=0.279, Acc=0.905]\n"
     ]
    },
    {
     "name": "stdout",
     "output_type": "stream",
     "text": [
      "\tTrain Loss: 0.285\tTrain Acc: 90.53%\n",
      "\tValid Loss: 0.425\tValid Acc: 81.42%\n",
      "\tModel parameters saved to single_head.pt\n"
     ]
    },
    {
     "name": "stderr",
     "output_type": "stream",
     "text": [
      "Epoch 09: 100%|██████████| 264/264 [00:05<00:00, 51.21it/s, Loss=0.237, Acc=0.952]\n"
     ]
    },
    {
     "name": "stdout",
     "output_type": "stream",
     "text": [
      "\tTrain Loss: 0.257\tTrain Acc: 91.28%\n",
      "\tValid Loss: 0.415\tValid Acc: 81.77%\n",
      "\tModel parameters saved to single_head.pt\n"
     ]
    },
    {
     "name": "stderr",
     "output_type": "stream",
     "text": [
      "Epoch 10: 100%|██████████| 264/264 [00:04<00:00, 53.52it/s, Loss=0.305, Acc=0.952]\n"
     ]
    },
    {
     "name": "stdout",
     "output_type": "stream",
     "text": [
      "\tTrain Loss: 0.235\tTrain Acc: 91.94%\n",
      "\tValid Loss: 0.409\tValid Acc: 82.11%\n",
      "\tModel parameters saved to single_head.pt\n"
     ]
    },
    {
     "name": "stderr",
     "output_type": "stream",
     "text": [
      "Epoch 11: 100%|██████████| 264/264 [00:04<00:00, 55.51it/s, Loss=0.0916, Acc=1]   \n"
     ]
    },
    {
     "name": "stdout",
     "output_type": "stream",
     "text": [
      "\tTrain Loss: 0.217\tTrain Acc: 92.51%\n",
      "\tValid Loss: 0.407\tValid Acc: 81.77%\n",
      "\tModel parameters saved to single_head.pt\n"
     ]
    },
    {
     "name": "stderr",
     "output_type": "stream",
     "text": [
      "Epoch 12: 100%|██████████| 264/264 [00:04<00:00, 52.93it/s, Loss=0.124, Acc=0.952]\n"
     ]
    },
    {
     "name": "stdout",
     "output_type": "stream",
     "text": [
      "\tTrain Loss: 0.203\tTrain Acc: 92.97%\n",
      "\tValid Loss: 0.407\tValid Acc: 81.88%\n"
     ]
    },
    {
     "name": "stderr",
     "output_type": "stream",
     "text": [
      "Epoch 13: 100%|██████████| 264/264 [00:04<00:00, 53.87it/s, Loss=0.178, Acc=0.952]\n"
     ]
    },
    {
     "name": "stdout",
     "output_type": "stream",
     "text": [
      "\tTrain Loss: 0.192\tTrain Acc: 93.33%\n",
      "\tValid Loss: 0.410\tValid Acc: 82.00%\n"
     ]
    },
    {
     "name": "stderr",
     "output_type": "stream",
     "text": [
      "Epoch 14: 100%|██████████| 264/264 [00:04<00:00, 53.55it/s, Loss=0.116, Acc=1]    \n"
     ]
    },
    {
     "name": "stdout",
     "output_type": "stream",
     "text": [
      "\tTrain Loss: 0.182\tTrain Acc: 93.60%\n",
      "\tValid Loss: 0.413\tValid Acc: 81.77%\n"
     ]
    },
    {
     "name": "stderr",
     "output_type": "stream",
     "text": [
      "Epoch 15: 100%|██████████| 264/264 [00:04<00:00, 54.94it/s, Loss=0.404, Acc=0.905]\n"
     ]
    },
    {
     "name": "stdout",
     "output_type": "stream",
     "text": [
      "\tTrain Loss: 0.174\tTrain Acc: 93.99%\n",
      "\tValid Loss: 0.419\tValid Acc: 81.65%\n"
     ]
    },
    {
     "name": "stderr",
     "output_type": "stream",
     "text": [
      "Epoch 16: 100%|██████████| 264/264 [00:04<00:00, 53.72it/s, Loss=0.112, Acc=1]    \n"
     ]
    },
    {
     "name": "stdout",
     "output_type": "stream",
     "text": [
      "\tTrain Loss: 0.166\tTrain Acc: 94.21%\n",
      "\tValid Loss: 0.424\tValid Acc: 81.77%\n"
     ]
    },
    {
     "name": "stderr",
     "output_type": "stream",
     "text": [
      "Epoch 17: 100%|██████████| 264/264 [00:04<00:00, 56.07it/s, Loss=0.167, Acc=0.952]\n"
     ]
    },
    {
     "name": "stdout",
     "output_type": "stream",
     "text": [
      "\tTrain Loss: 0.160\tTrain Acc: 94.42%\n",
      "\tValid Loss: 0.434\tValid Acc: 81.77%\n"
     ]
    },
    {
     "name": "stderr",
     "output_type": "stream",
     "text": [
      "Epoch 18: 100%|██████████| 264/264 [00:04<00:00, 53.85it/s, Loss=0.0544, Acc=1]    \n"
     ]
    },
    {
     "name": "stdout",
     "output_type": "stream",
     "text": [
      "\tTrain Loss: 0.155\tTrain Acc: 94.60%\n",
      "\tValid Loss: 0.440\tValid Acc: 81.88%\n"
     ]
    },
    {
     "name": "stderr",
     "output_type": "stream",
     "text": [
      "Epoch 19: 100%|██████████| 264/264 [00:04<00:00, 54.88it/s, Loss=0.224, Acc=0.905] \n"
     ]
    },
    {
     "name": "stdout",
     "output_type": "stream",
     "text": [
      "\tTrain Loss: 0.150\tTrain Acc: 94.82%\n",
      "\tValid Loss: 0.452\tValid Acc: 81.65%\n"
     ]
    },
    {
     "name": "stderr",
     "output_type": "stream",
     "text": [
      "Epoch 20: 100%|██████████| 264/264 [00:04<00:00, 55.67it/s, Loss=0.108, Acc=0.952] \n"
     ]
    },
    {
     "name": "stdout",
     "output_type": "stream",
     "text": [
      "\tTrain Loss: 0.145\tTrain Acc: 94.94%\n",
      "\tValid Loss: 0.458\tValid Acc: 81.54%\n"
     ]
    }
   ],
   "source": [
    "single_head_filename = 'single_head.pt'\n",
    "learner.train(epochs=20, filename=single_head_filename)"
   ]
  },
  {
   "cell_type": "markdown",
   "metadata": {},
   "source": [
    "### Load best model to evaluate"
   ]
  },
  {
   "cell_type": "code",
   "execution_count": 32,
   "metadata": {},
   "outputs": [],
   "source": [
    "learner.load_model_params(single_head_filename)"
   ]
  },
  {
   "cell_type": "code",
   "execution_count": 33,
   "metadata": {},
   "outputs": [
    {
     "name": "stdout",
     "output_type": "stream",
     "text": [
      "\t Test Loss: 0.397\t Test Acc: 81.93%\n"
     ]
    }
   ],
   "source": [
    "learner.print_test_results()"
   ]
  },
  {
   "cell_type": "markdown",
   "metadata": {},
   "source": [
    "# Transformer style attention model\n",
    "## w/ single attention head & positional encoding"
   ]
  },
  {
   "cell_type": "markdown",
   "metadata": {},
   "source": [
    "### Load model and learner"
   ]
  },
  {
   "cell_type": "code",
   "execution_count": 34,
   "metadata": {},
   "outputs": [],
   "source": [
    "single_head_pe = MultiHeadSelfAttentionModel(len(vocab), model_dim=EMBED_DIM, num_heads=1, pos_encode=True, embed_dropout=DROPOUT, attention_dropout=DROPOUT)\n",
    "learner = get_learner(model=single_head_pe, lr=5e-6)"
   ]
  },
  {
   "cell_type": "markdown",
   "metadata": {},
   "source": [
    "### Train model"
   ]
  },
  {
   "cell_type": "code",
   "execution_count": 35,
   "metadata": {},
   "outputs": [
    {
     "name": "stderr",
     "output_type": "stream",
     "text": [
      "Epoch 01: 100%|██████████| 264/264 [00:05<00:00, 51.59it/s, Loss=0.73, Acc=0.476] \n"
     ]
    },
    {
     "name": "stdout",
     "output_type": "stream",
     "text": [
      "\tTrain Loss: 0.684\tTrain Acc: 55.08%\n",
      "\tValid Loss: 0.691\tValid Acc: 50.92%\n",
      "\tModel parameters saved to single_head_pe.pt\n"
     ]
    },
    {
     "name": "stderr",
     "output_type": "stream",
     "text": [
      "Epoch 02: 100%|██████████| 264/264 [00:05<00:00, 51.53it/s, Loss=0.6, Acc=0.81]   \n"
     ]
    },
    {
     "name": "stdout",
     "output_type": "stream",
     "text": [
      "\tTrain Loss: 0.667\tTrain Acc: 57.65%\n",
      "\tValid Loss: 0.675\tValid Acc: 51.83%\n",
      "\tModel parameters saved to single_head_pe.pt\n"
     ]
    },
    {
     "name": "stderr",
     "output_type": "stream",
     "text": [
      "Epoch 03: 100%|██████████| 264/264 [00:05<00:00, 51.44it/s, Loss=0.581, Acc=0.762]\n"
     ]
    },
    {
     "name": "stdout",
     "output_type": "stream",
     "text": [
      "\tTrain Loss: 0.632\tTrain Acc: 63.98%\n",
      "\tValid Loss: 0.637\tValid Acc: 62.84%\n",
      "\tModel parameters saved to single_head_pe.pt\n"
     ]
    },
    {
     "name": "stderr",
     "output_type": "stream",
     "text": [
      "Epoch 04: 100%|██████████| 264/264 [00:05<00:00, 51.77it/s, Loss=0.502, Acc=0.81] \n"
     ]
    },
    {
     "name": "stdout",
     "output_type": "stream",
     "text": [
      "\tTrain Loss: 0.564\tTrain Acc: 76.17%\n",
      "\tValid Loss: 0.578\tValid Acc: 75.69%\n",
      "\tModel parameters saved to single_head_pe.pt\n"
     ]
    },
    {
     "name": "stderr",
     "output_type": "stream",
     "text": [
      "Epoch 05: 100%|██████████| 264/264 [00:05<00:00, 51.33it/s, Loss=0.492, Acc=0.857]\n"
     ]
    },
    {
     "name": "stdout",
     "output_type": "stream",
     "text": [
      "\tTrain Loss: 0.474\tTrain Acc: 83.66%\n",
      "\tValid Loss: 0.519\tValid Acc: 77.87%\n",
      "\tModel parameters saved to single_head_pe.pt\n"
     ]
    },
    {
     "name": "stderr",
     "output_type": "stream",
     "text": [
      "Epoch 06: 100%|██████████| 264/264 [00:05<00:00, 50.91it/s, Loss=0.486, Acc=0.857]\n"
     ]
    },
    {
     "name": "stdout",
     "output_type": "stream",
     "text": [
      "\tTrain Loss: 0.394\tTrain Acc: 86.99%\n",
      "\tValid Loss: 0.474\tValid Acc: 79.01%\n",
      "\tModel parameters saved to single_head_pe.pt\n"
     ]
    },
    {
     "name": "stderr",
     "output_type": "stream",
     "text": [
      "Epoch 07: 100%|██████████| 264/264 [00:05<00:00, 51.78it/s, Loss=0.252, Acc=0.952]\n"
     ]
    },
    {
     "name": "stdout",
     "output_type": "stream",
     "text": [
      "\tTrain Loss: 0.334\tTrain Acc: 88.89%\n",
      "\tValid Loss: 0.444\tValid Acc: 80.05%\n",
      "\tModel parameters saved to single_head_pe.pt\n"
     ]
    },
    {
     "name": "stderr",
     "output_type": "stream",
     "text": [
      "Epoch 08: 100%|██████████| 264/264 [00:05<00:00, 51.18it/s, Loss=0.212, Acc=0.905]\n"
     ]
    },
    {
     "name": "stdout",
     "output_type": "stream",
     "text": [
      "\tTrain Loss: 0.292\tTrain Acc: 89.97%\n",
      "\tValid Loss: 0.425\tValid Acc: 80.50%\n",
      "\tModel parameters saved to single_head_pe.pt\n"
     ]
    },
    {
     "name": "stderr",
     "output_type": "stream",
     "text": [
      "Epoch 09: 100%|██████████| 264/264 [00:05<00:00, 51.34it/s, Loss=0.298, Acc=0.857]\n"
     ]
    },
    {
     "name": "stdout",
     "output_type": "stream",
     "text": [
      "\tTrain Loss: 0.261\tTrain Acc: 90.95%\n",
      "\tValid Loss: 0.414\tValid Acc: 81.54%\n",
      "\tModel parameters saved to single_head_pe.pt\n"
     ]
    },
    {
     "name": "stderr",
     "output_type": "stream",
     "text": [
      "Epoch 10: 100%|██████████| 264/264 [00:05<00:00, 51.55it/s, Loss=0.186, Acc=0.952]\n"
     ]
    },
    {
     "name": "stdout",
     "output_type": "stream",
     "text": [
      "\tTrain Loss: 0.239\tTrain Acc: 91.70%\n",
      "\tValid Loss: 0.408\tValid Acc: 81.54%\n",
      "\tModel parameters saved to single_head_pe.pt\n"
     ]
    },
    {
     "name": "stderr",
     "output_type": "stream",
     "text": [
      "Epoch 11: 100%|██████████| 264/264 [00:05<00:00, 49.89it/s, Loss=0.186, Acc=0.905]\n"
     ]
    },
    {
     "name": "stdout",
     "output_type": "stream",
     "text": [
      "\tTrain Loss: 0.221\tTrain Acc: 92.37%\n",
      "\tValid Loss: 0.406\tValid Acc: 81.77%\n",
      "\tModel parameters saved to single_head_pe.pt\n"
     ]
    },
    {
     "name": "stderr",
     "output_type": "stream",
     "text": [
      "Epoch 12: 100%|██████████| 264/264 [00:05<00:00, 51.72it/s, Loss=0.225, Acc=0.952]\n"
     ]
    },
    {
     "name": "stdout",
     "output_type": "stream",
     "text": [
      "\tTrain Loss: 0.207\tTrain Acc: 92.77%\n",
      "\tValid Loss: 0.405\tValid Acc: 81.31%\n",
      "\tModel parameters saved to single_head_pe.pt\n"
     ]
    },
    {
     "name": "stderr",
     "output_type": "stream",
     "text": [
      "Epoch 13: 100%|██████████| 264/264 [00:05<00:00, 50.38it/s, Loss=0.228, Acc=0.857]\n"
     ]
    },
    {
     "name": "stdout",
     "output_type": "stream",
     "text": [
      "\tTrain Loss: 0.196\tTrain Acc: 93.13%\n",
      "\tValid Loss: 0.408\tValid Acc: 81.77%\n"
     ]
    },
    {
     "name": "stderr",
     "output_type": "stream",
     "text": [
      "Epoch 14: 100%|██████████| 264/264 [00:05<00:00, 52.54it/s, Loss=0.0852, Acc=0.952]\n"
     ]
    },
    {
     "name": "stdout",
     "output_type": "stream",
     "text": [
      "\tTrain Loss: 0.185\tTrain Acc: 93.50%\n",
      "\tValid Loss: 0.412\tValid Acc: 82.11%\n"
     ]
    },
    {
     "name": "stderr",
     "output_type": "stream",
     "text": [
      "Epoch 15: 100%|██████████| 264/264 [00:05<00:00, 52.35it/s, Loss=0.308, Acc=0.857]\n"
     ]
    },
    {
     "name": "stdout",
     "output_type": "stream",
     "text": [
      "\tTrain Loss: 0.177\tTrain Acc: 93.76%\n",
      "\tValid Loss: 0.417\tValid Acc: 82.11%\n"
     ]
    },
    {
     "name": "stderr",
     "output_type": "stream",
     "text": [
      "Epoch 16: 100%|██████████| 264/264 [00:05<00:00, 50.48it/s, Loss=0.043, Acc=1]     \n"
     ]
    },
    {
     "name": "stdout",
     "output_type": "stream",
     "text": [
      "\tTrain Loss: 0.170\tTrain Acc: 93.95%\n",
      "\tValid Loss: 0.424\tValid Acc: 82.22%\n"
     ]
    },
    {
     "name": "stderr",
     "output_type": "stream",
     "text": [
      "Epoch 17: 100%|██████████| 264/264 [00:05<00:00, 49.45it/s, Loss=0.0757, Acc=0.952]\n"
     ]
    },
    {
     "name": "stdout",
     "output_type": "stream",
     "text": [
      "\tTrain Loss: 0.163\tTrain Acc: 94.25%\n",
      "\tValid Loss: 0.431\tValid Acc: 82.11%\n"
     ]
    },
    {
     "name": "stderr",
     "output_type": "stream",
     "text": [
      "Epoch 18: 100%|██████████| 264/264 [00:05<00:00, 51.73it/s, Loss=0.146, Acc=0.952] \n"
     ]
    },
    {
     "name": "stdout",
     "output_type": "stream",
     "text": [
      "\tTrain Loss: 0.157\tTrain Acc: 94.48%\n",
      "\tValid Loss: 0.435\tValid Acc: 82.22%\n"
     ]
    },
    {
     "name": "stderr",
     "output_type": "stream",
     "text": [
      "Epoch 19: 100%|██████████| 264/264 [00:05<00:00, 51.59it/s, Loss=0.18, Acc=0.952]  \n"
     ]
    },
    {
     "name": "stdout",
     "output_type": "stream",
     "text": [
      "\tTrain Loss: 0.152\tTrain Acc: 94.68%\n",
      "\tValid Loss: 0.445\tValid Acc: 81.77%\n"
     ]
    },
    {
     "name": "stderr",
     "output_type": "stream",
     "text": [
      "Epoch 20: 100%|██████████| 264/264 [00:05<00:00, 51.38it/s, Loss=0.0674, Acc=1]    \n"
     ]
    },
    {
     "name": "stdout",
     "output_type": "stream",
     "text": [
      "\tTrain Loss: 0.148\tTrain Acc: 94.80%\n",
      "\tValid Loss: 0.452\tValid Acc: 81.77%\n"
     ]
    }
   ],
   "source": [
    "single_head_pe_filename = 'single_head_pe.pt'\n",
    "learner.train(epochs=20, filename=single_head_pe_filename)"
   ]
  },
  {
   "cell_type": "markdown",
   "metadata": {},
   "source": [
    "### Load best model to evaluate"
   ]
  },
  {
   "cell_type": "code",
   "execution_count": 36,
   "metadata": {},
   "outputs": [],
   "source": [
    "learner.load_model_params(single_head_pe_filename)"
   ]
  },
  {
   "cell_type": "code",
   "execution_count": 37,
   "metadata": {},
   "outputs": [
    {
     "name": "stdout",
     "output_type": "stream",
     "text": [
      "\t Test Loss: 0.396\t Test Acc: 81.99%\n"
     ]
    }
   ],
   "source": [
    "learner.print_test_results()"
   ]
  },
  {
   "cell_type": "markdown",
   "metadata": {},
   "source": [
    "# Transformer style attention model\n",
    "## w/ multiple attention heads"
   ]
  },
  {
   "cell_type": "markdown",
   "metadata": {},
   "source": [
    "### Load model and learner"
   ]
  },
  {
   "cell_type": "code",
   "execution_count": 38,
   "metadata": {},
   "outputs": [],
   "source": [
    "multi_head = MultiHeadSelfAttentionModel(len(vocab), model_dim=EMBED_DIM, num_heads=4, embed_dropout=DROPOUT, attention_dropout=DROPOUT)\n",
    "learner = get_learner(model=multi_head, lr=5e-6)"
   ]
  },
  {
   "cell_type": "markdown",
   "metadata": {},
   "source": [
    "### Train model"
   ]
  },
  {
   "cell_type": "code",
   "execution_count": 39,
   "metadata": {},
   "outputs": [
    {
     "name": "stderr",
     "output_type": "stream",
     "text": [
      "Epoch 01: 100%|██████████| 264/264 [00:05<00:00, 50.74it/s, Loss=0.667, Acc=0.571]\n"
     ]
    },
    {
     "name": "stdout",
     "output_type": "stream",
     "text": [
      "\tTrain Loss: 0.690\tTrain Acc: 52.97%\n",
      "\tValid Loss: 0.685\tValid Acc: 50.92%\n",
      "\tModel parameters saved to multi_head.pt\n"
     ]
    },
    {
     "name": "stderr",
     "output_type": "stream",
     "text": [
      "Epoch 02: 100%|██████████| 264/264 [00:05<00:00, 52.71it/s, Loss=0.551, Acc=0.905]\n"
     ]
    },
    {
     "name": "stdout",
     "output_type": "stream",
     "text": [
      "\tTrain Loss: 0.657\tTrain Acc: 59.84%\n",
      "\tValid Loss: 0.661\tValid Acc: 54.70%\n",
      "\tModel parameters saved to multi_head.pt\n"
     ]
    },
    {
     "name": "stderr",
     "output_type": "stream",
     "text": [
      "Epoch 03: 100%|██████████| 264/264 [00:05<00:00, 51.18it/s, Loss=0.554, Acc=0.714]\n"
     ]
    },
    {
     "name": "stdout",
     "output_type": "stream",
     "text": [
      "\tTrain Loss: 0.597\tTrain Acc: 70.45%\n",
      "\tValid Loss: 0.603\tValid Acc: 69.15%\n",
      "\tModel parameters saved to multi_head.pt\n"
     ]
    },
    {
     "name": "stderr",
     "output_type": "stream",
     "text": [
      "Epoch 04: 100%|██████████| 264/264 [00:05<00:00, 52.15it/s, Loss=0.408, Acc=0.857]\n"
     ]
    },
    {
     "name": "stdout",
     "output_type": "stream",
     "text": [
      "\tTrain Loss: 0.505\tTrain Acc: 81.44%\n",
      "\tValid Loss: 0.538\tValid Acc: 76.38%\n",
      "\tModel parameters saved to multi_head.pt\n"
     ]
    },
    {
     "name": "stderr",
     "output_type": "stream",
     "text": [
      "Epoch 05: 100%|██████████| 264/264 [00:05<00:00, 49.47it/s, Loss=0.338, Acc=0.905]\n"
     ]
    },
    {
     "name": "stdout",
     "output_type": "stream",
     "text": [
      "\tTrain Loss: 0.416\tTrain Acc: 86.04%\n",
      "\tValid Loss: 0.487\tValid Acc: 78.56%\n",
      "\tModel parameters saved to multi_head.pt\n"
     ]
    },
    {
     "name": "stderr",
     "output_type": "stream",
     "text": [
      "Epoch 06: 100%|██████████| 264/264 [00:05<00:00, 50.52it/s, Loss=0.254, Acc=0.905]\n"
     ]
    },
    {
     "name": "stdout",
     "output_type": "stream",
     "text": [
      "\tTrain Loss: 0.348\tTrain Acc: 88.60%\n",
      "\tValid Loss: 0.454\tValid Acc: 79.93%\n",
      "\tModel parameters saved to multi_head.pt\n"
     ]
    },
    {
     "name": "stderr",
     "output_type": "stream",
     "text": [
      "Epoch 07: 100%|██████████| 264/264 [00:05<00:00, 51.52it/s, Loss=0.183, Acc=0.952]\n"
     ]
    },
    {
     "name": "stdout",
     "output_type": "stream",
     "text": [
      "\tTrain Loss: 0.300\tTrain Acc: 89.92%\n",
      "\tValid Loss: 0.432\tValid Acc: 80.62%\n",
      "\tModel parameters saved to multi_head.pt\n"
     ]
    },
    {
     "name": "stderr",
     "output_type": "stream",
     "text": [
      "Epoch 08: 100%|██████████| 264/264 [00:05<00:00, 50.02it/s, Loss=0.223, Acc=1]    \n"
     ]
    },
    {
     "name": "stdout",
     "output_type": "stream",
     "text": [
      "\tTrain Loss: 0.266\tTrain Acc: 90.88%\n",
      "\tValid Loss: 0.420\tValid Acc: 80.73%\n",
      "\tModel parameters saved to multi_head.pt\n"
     ]
    },
    {
     "name": "stderr",
     "output_type": "stream",
     "text": [
      "Epoch 09: 100%|██████████| 264/264 [00:05<00:00, 50.47it/s, Loss=0.281, Acc=0.81] \n"
     ]
    },
    {
     "name": "stdout",
     "output_type": "stream",
     "text": [
      "\tTrain Loss: 0.241\tTrain Acc: 91.69%\n",
      "\tValid Loss: 0.412\tValid Acc: 80.73%\n",
      "\tModel parameters saved to multi_head.pt\n"
     ]
    },
    {
     "name": "stderr",
     "output_type": "stream",
     "text": [
      "Epoch 10: 100%|██████████| 264/264 [00:05<00:00, 52.25it/s, Loss=0.313, Acc=0.905]\n"
     ]
    },
    {
     "name": "stdout",
     "output_type": "stream",
     "text": [
      "\tTrain Loss: 0.221\tTrain Acc: 92.34%\n",
      "\tValid Loss: 0.409\tValid Acc: 80.96%\n",
      "\tModel parameters saved to multi_head.pt\n"
     ]
    },
    {
     "name": "stderr",
     "output_type": "stream",
     "text": [
      "Epoch 11: 100%|██████████| 264/264 [00:05<00:00, 50.43it/s, Loss=0.323, Acc=0.905]\n"
     ]
    },
    {
     "name": "stdout",
     "output_type": "stream",
     "text": [
      "\tTrain Loss: 0.206\tTrain Acc: 92.85%\n",
      "\tValid Loss: 0.414\tValid Acc: 80.85%\n"
     ]
    },
    {
     "name": "stderr",
     "output_type": "stream",
     "text": [
      "Epoch 12: 100%|██████████| 264/264 [00:05<00:00, 51.42it/s, Loss=0.238, Acc=0.857]\n"
     ]
    },
    {
     "name": "stdout",
     "output_type": "stream",
     "text": [
      "\tTrain Loss: 0.194\tTrain Acc: 93.23%\n",
      "\tValid Loss: 0.413\tValid Acc: 81.08%\n"
     ]
    },
    {
     "name": "stderr",
     "output_type": "stream",
     "text": [
      "Epoch 13: 100%|██████████| 264/264 [00:05<00:00, 49.72it/s, Loss=0.0831, Acc=0.952]\n"
     ]
    },
    {
     "name": "stdout",
     "output_type": "stream",
     "text": [
      "\tTrain Loss: 0.183\tTrain Acc: 93.59%\n",
      "\tValid Loss: 0.421\tValid Acc: 81.08%\n"
     ]
    },
    {
     "name": "stderr",
     "output_type": "stream",
     "text": [
      "Epoch 14: 100%|██████████| 264/264 [00:05<00:00, 47.83it/s, Loss=0.0964, Acc=1]   \n"
     ]
    },
    {
     "name": "stdout",
     "output_type": "stream",
     "text": [
      "\tTrain Loss: 0.174\tTrain Acc: 93.89%\n",
      "\tValid Loss: 0.427\tValid Acc: 81.08%\n"
     ]
    },
    {
     "name": "stderr",
     "output_type": "stream",
     "text": [
      "Epoch 15: 100%|██████████| 264/264 [00:05<00:00, 50.94it/s, Loss=0.0496, Acc=1]   \n"
     ]
    },
    {
     "name": "stdout",
     "output_type": "stream",
     "text": [
      "\tTrain Loss: 0.167\tTrain Acc: 94.11%\n",
      "\tValid Loss: 0.432\tValid Acc: 81.31%\n"
     ]
    },
    {
     "name": "stderr",
     "output_type": "stream",
     "text": [
      "Epoch 16: 100%|██████████| 264/264 [00:05<00:00, 50.37it/s, Loss=0.182, Acc=0.905] \n"
     ]
    },
    {
     "name": "stdout",
     "output_type": "stream",
     "text": [
      "\tTrain Loss: 0.160\tTrain Acc: 94.38%\n",
      "\tValid Loss: 0.441\tValid Acc: 81.08%\n"
     ]
    },
    {
     "name": "stderr",
     "output_type": "stream",
     "text": [
      "Epoch 17: 100%|██████████| 264/264 [00:05<00:00, 50.25it/s, Loss=0.214, Acc=0.857] \n"
     ]
    },
    {
     "name": "stdout",
     "output_type": "stream",
     "text": [
      "\tTrain Loss: 0.155\tTrain Acc: 94.58%\n",
      "\tValid Loss: 0.452\tValid Acc: 81.19%\n"
     ]
    },
    {
     "name": "stderr",
     "output_type": "stream",
     "text": [
      "Epoch 18: 100%|██████████| 264/264 [00:05<00:00, 48.84it/s, Loss=0.0586, Acc=1]    \n"
     ]
    },
    {
     "name": "stdout",
     "output_type": "stream",
     "text": [
      "\tTrain Loss: 0.149\tTrain Acc: 94.76%\n",
      "\tValid Loss: 0.459\tValid Acc: 81.31%\n"
     ]
    },
    {
     "name": "stderr",
     "output_type": "stream",
     "text": [
      "Epoch 19: 100%|██████████| 264/264 [00:05<00:00, 50.69it/s, Loss=0.0639, Acc=1]    \n"
     ]
    },
    {
     "name": "stdout",
     "output_type": "stream",
     "text": [
      "\tTrain Loss: 0.144\tTrain Acc: 94.95%\n",
      "\tValid Loss: 0.470\tValid Acc: 81.42%\n"
     ]
    },
    {
     "name": "stderr",
     "output_type": "stream",
     "text": [
      "Epoch 20: 100%|██████████| 264/264 [00:05<00:00, 50.24it/s, Loss=0.261, Acc=0.905] \n"
     ]
    },
    {
     "name": "stdout",
     "output_type": "stream",
     "text": [
      "\tTrain Loss: 0.140\tTrain Acc: 95.12%\n",
      "\tValid Loss: 0.481\tValid Acc: 81.42%\n"
     ]
    }
   ],
   "source": [
    "multi_head_filename = 'multi_head.pt'\n",
    "learner.train(epochs=20, filename=multi_head_filename)"
   ]
  },
  {
   "cell_type": "markdown",
   "metadata": {},
   "source": [
    "### Load best model to evaluate"
   ]
  },
  {
   "cell_type": "code",
   "execution_count": 40,
   "metadata": {},
   "outputs": [],
   "source": [
    "learner.load_model_params(multi_head_filename)"
   ]
  },
  {
   "cell_type": "code",
   "execution_count": 41,
   "metadata": {},
   "outputs": [
    {
     "name": "stdout",
     "output_type": "stream",
     "text": [
      "\t Test Loss: 0.402\t Test Acc: 81.44%\n"
     ]
    }
   ],
   "source": [
    "learner.print_test_results()"
   ]
  },
  {
   "cell_type": "markdown",
   "metadata": {},
   "source": [
    "# Transformer style attention model\n",
    "## w/ multiple attention heads & positional encoding"
   ]
  },
  {
   "cell_type": "markdown",
   "metadata": {},
   "source": [
    "### Load model and learner"
   ]
  },
  {
   "cell_type": "code",
   "execution_count": 42,
   "metadata": {},
   "outputs": [],
   "source": [
    "multi_head_pe = MultiHeadSelfAttentionModel(len(vocab), model_dim=EMBED_DIM, num_heads=4, pos_encode=True, embed_dropout=DROPOUT, attention_dropout=DROPOUT)\n",
    "learner = get_learner(model=multi_head_pe, lr=5e-6)"
   ]
  },
  {
   "cell_type": "markdown",
   "metadata": {},
   "source": [
    "### Train model"
   ]
  },
  {
   "cell_type": "code",
   "execution_count": 43,
   "metadata": {},
   "outputs": [
    {
     "name": "stderr",
     "output_type": "stream",
     "text": [
      "Epoch 01: 100%|██████████| 264/264 [00:05<00:00, 46.97it/s, Loss=0.665, Acc=0.619]\n"
     ]
    },
    {
     "name": "stdout",
     "output_type": "stream",
     "text": [
      "\tTrain Loss: 0.683\tTrain Acc: 55.91%\n",
      "\tValid Loss: 0.691\tValid Acc: 50.92%\n",
      "\tModel parameters saved to multi_head_pe.pt\n"
     ]
    },
    {
     "name": "stderr",
     "output_type": "stream",
     "text": [
      "Epoch 02: 100%|██████████| 264/264 [00:05<00:00, 48.36it/s, Loss=0.599, Acc=0.762]\n"
     ]
    },
    {
     "name": "stdout",
     "output_type": "stream",
     "text": [
      "\tTrain Loss: 0.665\tTrain Acc: 58.00%\n",
      "\tValid Loss: 0.673\tValid Acc: 52.18%\n",
      "\tModel parameters saved to multi_head_pe.pt\n"
     ]
    },
    {
     "name": "stderr",
     "output_type": "stream",
     "text": [
      "Epoch 03: 100%|██████████| 264/264 [00:05<00:00, 49.14it/s, Loss=0.598, Acc=0.667]\n"
     ]
    },
    {
     "name": "stdout",
     "output_type": "stream",
     "text": [
      "\tTrain Loss: 0.629\tTrain Acc: 66.01%\n",
      "\tValid Loss: 0.634\tValid Acc: 64.45%\n",
      "\tModel parameters saved to multi_head_pe.pt\n"
     ]
    },
    {
     "name": "stderr",
     "output_type": "stream",
     "text": [
      "Epoch 04: 100%|██████████| 264/264 [00:05<00:00, 46.60it/s, Loss=0.54, Acc=0.81]  \n"
     ]
    },
    {
     "name": "stdout",
     "output_type": "stream",
     "text": [
      "\tTrain Loss: 0.559\tTrain Acc: 77.65%\n",
      "\tValid Loss: 0.575\tValid Acc: 74.77%\n",
      "\tModel parameters saved to multi_head_pe.pt\n"
     ]
    },
    {
     "name": "stderr",
     "output_type": "stream",
     "text": [
      "Epoch 05: 100%|██████████| 264/264 [00:05<00:00, 46.83it/s, Loss=0.456, Acc=0.762]\n"
     ]
    },
    {
     "name": "stdout",
     "output_type": "stream",
     "text": [
      "\tTrain Loss: 0.471\tTrain Acc: 83.99%\n",
      "\tValid Loss: 0.517\tValid Acc: 78.21%\n",
      "\tModel parameters saved to multi_head_pe.pt\n"
     ]
    },
    {
     "name": "stderr",
     "output_type": "stream",
     "text": [
      "Epoch 06: 100%|██████████| 264/264 [00:05<00:00, 48.29it/s, Loss=0.438, Acc=0.857]\n"
     ]
    },
    {
     "name": "stdout",
     "output_type": "stream",
     "text": [
      "\tTrain Loss: 0.391\tTrain Acc: 87.10%\n",
      "\tValid Loss: 0.472\tValid Acc: 79.82%\n",
      "\tModel parameters saved to multi_head_pe.pt\n"
     ]
    },
    {
     "name": "stderr",
     "output_type": "stream",
     "text": [
      "Epoch 07: 100%|██████████| 264/264 [00:05<00:00, 46.56it/s, Loss=0.281, Acc=0.905]\n"
     ]
    },
    {
     "name": "stdout",
     "output_type": "stream",
     "text": [
      "\tTrain Loss: 0.331\tTrain Acc: 88.91%\n",
      "\tValid Loss: 0.444\tValid Acc: 80.50%\n",
      "\tModel parameters saved to multi_head_pe.pt\n"
     ]
    },
    {
     "name": "stderr",
     "output_type": "stream",
     "text": [
      "Epoch 08: 100%|██████████| 264/264 [00:05<00:00, 47.09it/s, Loss=0.318, Acc=0.905]\n"
     ]
    },
    {
     "name": "stdout",
     "output_type": "stream",
     "text": [
      "\tTrain Loss: 0.289\tTrain Acc: 90.20%\n",
      "\tValid Loss: 0.423\tValid Acc: 81.88%\n",
      "\tModel parameters saved to multi_head_pe.pt\n"
     ]
    },
    {
     "name": "stderr",
     "output_type": "stream",
     "text": [
      "Epoch 09: 100%|██████████| 264/264 [00:05<00:00, 47.39it/s, Loss=0.115, Acc=1]    \n"
     ]
    },
    {
     "name": "stdout",
     "output_type": "stream",
     "text": [
      "\tTrain Loss: 0.259\tTrain Acc: 91.07%\n",
      "\tValid Loss: 0.414\tValid Acc: 81.77%\n",
      "\tModel parameters saved to multi_head_pe.pt\n"
     ]
    },
    {
     "name": "stderr",
     "output_type": "stream",
     "text": [
      "Epoch 10: 100%|██████████| 264/264 [00:05<00:00, 46.85it/s, Loss=0.116, Acc=1]    \n"
     ]
    },
    {
     "name": "stdout",
     "output_type": "stream",
     "text": [
      "\tTrain Loss: 0.236\tTrain Acc: 91.79%\n",
      "\tValid Loss: 0.408\tValid Acc: 82.11%\n",
      "\tModel parameters saved to multi_head_pe.pt\n"
     ]
    },
    {
     "name": "stderr",
     "output_type": "stream",
     "text": [
      "Epoch 11: 100%|██████████| 264/264 [00:05<00:00, 47.88it/s, Loss=0.171, Acc=0.905]\n"
     ]
    },
    {
     "name": "stdout",
     "output_type": "stream",
     "text": [
      "\tTrain Loss: 0.219\tTrain Acc: 92.36%\n",
      "\tValid Loss: 0.406\tValid Acc: 81.88%\n",
      "\tModel parameters saved to multi_head_pe.pt\n"
     ]
    },
    {
     "name": "stderr",
     "output_type": "stream",
     "text": [
      "Epoch 12: 100%|██████████| 264/264 [00:05<00:00, 47.38it/s, Loss=0.174, Acc=1]    \n"
     ]
    },
    {
     "name": "stdout",
     "output_type": "stream",
     "text": [
      "\tTrain Loss: 0.205\tTrain Acc: 92.82%\n",
      "\tValid Loss: 0.406\tValid Acc: 81.65%\n"
     ]
    },
    {
     "name": "stderr",
     "output_type": "stream",
     "text": [
      "Epoch 13: 100%|██████████| 264/264 [00:05<00:00, 47.61it/s, Loss=0.165, Acc=0.952]\n"
     ]
    },
    {
     "name": "stdout",
     "output_type": "stream",
     "text": [
      "\tTrain Loss: 0.193\tTrain Acc: 93.31%\n",
      "\tValid Loss: 0.409\tValid Acc: 82.34%\n"
     ]
    },
    {
     "name": "stderr",
     "output_type": "stream",
     "text": [
      "Epoch 14: 100%|██████████| 264/264 [00:05<00:00, 50.08it/s, Loss=0.0742, Acc=1]   \n"
     ]
    },
    {
     "name": "stdout",
     "output_type": "stream",
     "text": [
      "\tTrain Loss: 0.183\tTrain Acc: 93.55%\n",
      "\tValid Loss: 0.413\tValid Acc: 82.57%\n"
     ]
    },
    {
     "name": "stderr",
     "output_type": "stream",
     "text": [
      "Epoch 15: 100%|██████████| 264/264 [00:05<00:00, 47.55it/s, Loss=0.127, Acc=0.952]\n"
     ]
    },
    {
     "name": "stdout",
     "output_type": "stream",
     "text": [
      "\tTrain Loss: 0.175\tTrain Acc: 93.87%\n",
      "\tValid Loss: 0.417\tValid Acc: 82.11%\n"
     ]
    },
    {
     "name": "stderr",
     "output_type": "stream",
     "text": [
      "Epoch 16: 100%|██████████| 264/264 [00:05<00:00, 47.79it/s, Loss=0.423, Acc=0.857] \n"
     ]
    },
    {
     "name": "stdout",
     "output_type": "stream",
     "text": [
      "\tTrain Loss: 0.168\tTrain Acc: 94.07%\n",
      "\tValid Loss: 0.425\tValid Acc: 82.45%\n"
     ]
    },
    {
     "name": "stderr",
     "output_type": "stream",
     "text": [
      "Epoch 17: 100%|██████████| 264/264 [00:05<00:00, 47.88it/s, Loss=0.0968, Acc=1]   \n"
     ]
    },
    {
     "name": "stdout",
     "output_type": "stream",
     "text": [
      "\tTrain Loss: 0.162\tTrain Acc: 94.32%\n",
      "\tValid Loss: 0.430\tValid Acc: 82.11%\n"
     ]
    },
    {
     "name": "stderr",
     "output_type": "stream",
     "text": [
      "Epoch 18: 100%|██████████| 264/264 [00:05<00:00, 47.36it/s, Loss=0.127, Acc=0.952] \n"
     ]
    },
    {
     "name": "stdout",
     "output_type": "stream",
     "text": [
      "\tTrain Loss: 0.156\tTrain Acc: 94.54%\n",
      "\tValid Loss: 0.440\tValid Acc: 82.45%\n"
     ]
    },
    {
     "name": "stderr",
     "output_type": "stream",
     "text": [
      "Epoch 19: 100%|██████████| 264/264 [00:05<00:00, 48.09it/s, Loss=0.108, Acc=0.952] \n"
     ]
    },
    {
     "name": "stdout",
     "output_type": "stream",
     "text": [
      "\tTrain Loss: 0.151\tTrain Acc: 94.69%\n",
      "\tValid Loss: 0.444\tValid Acc: 82.45%\n"
     ]
    },
    {
     "name": "stderr",
     "output_type": "stream",
     "text": [
      "Epoch 20: 100%|██████████| 264/264 [00:05<00:00, 48.03it/s, Loss=0.0367, Acc=1]    \n"
     ]
    },
    {
     "name": "stdout",
     "output_type": "stream",
     "text": [
      "\tTrain Loss: 0.147\tTrain Acc: 94.80%\n",
      "\tValid Loss: 0.454\tValid Acc: 82.00%\n"
     ]
    }
   ],
   "source": [
    "multi_head_pe_filename = 'multi_head_pe.pt'\n",
    "learner.train(epochs=20, filename=multi_head_pe_filename)"
   ]
  },
  {
   "cell_type": "markdown",
   "metadata": {},
   "source": [
    "### Load best model to evaluate"
   ]
  },
  {
   "cell_type": "code",
   "execution_count": 44,
   "metadata": {},
   "outputs": [],
   "source": [
    "learner.load_model_params(multi_head_pe_filename)"
   ]
  },
  {
   "cell_type": "code",
   "execution_count": 45,
   "metadata": {},
   "outputs": [
    {
     "name": "stdout",
     "output_type": "stream",
     "text": [
      "\t Test Loss: 0.398\t Test Acc: 81.60%\n"
     ]
    }
   ],
   "source": [
    "learner.print_test_results()"
   ]
  },
  {
   "cell_type": "code",
   "execution_count": null,
   "metadata": {},
   "outputs": [],
   "source": []
  }
 ],
 "metadata": {
  "kernelspec": {
   "display_name": "Python 3",
   "language": "python",
   "name": "python3"
  },
  "language_info": {
   "codemirror_mode": {
    "name": "ipython",
    "version": 3
   },
   "file_extension": ".py",
   "mimetype": "text/x-python",
   "name": "python",
   "nbconvert_exporter": "python",
   "pygments_lexer": "ipython3",
   "version": "3.6.8"
  }
 },
 "nbformat": 4,
 "nbformat_minor": 4
}
