{
 "cells": [
  {
   "cell_type": "code",
   "execution_count": 1,
   "metadata": {},
   "outputs": [],
   "source": [
    "import torch\n",
    "from torch import nn\n",
    "from torch.optim import Adam\n",
    "import pandas as pd\n",
    "\n",
    "from data import Vocabulary, SentiDataset, get_dataloader\n",
    "from models import WordAveragingModel, AttentionWeightedWordAveragingModel, UAttention, dot_product_self_attention, MultiHeadSelfAttentionModel\n",
    "from learner import SentimentLearner\n",
    "\n",
    "torch.manual_seed(41)\n",
    "loss_fn = nn.BCEWithLogitsLoss()"
   ]
  },
  {
   "cell_type": "markdown",
   "metadata": {},
   "source": [
    "### Hyperparameters"
   ]
  },
  {
   "cell_type": "code",
   "execution_count": 2,
   "metadata": {},
   "outputs": [],
   "source": [
    "BATCH_SIZE = 256\n",
    "EMBED_DIM = 256\n",
    "EMBED_DROPOUT = 0.25\n",
    "OPTIM_CLS = Adam"
   ]
  },
  {
   "cell_type": "markdown",
   "metadata": {},
   "source": [
    "### Load data"
   ]
  },
  {
   "cell_type": "code",
   "execution_count": 3,
   "metadata": {},
   "outputs": [
    {
     "name": "stdout",
     "output_type": "stream",
     "text": [
      "CPU times: user 34.5 s, sys: 3.31 ms, total: 34.6 s\n",
      "Wall time: 34.6 s\n"
     ]
    }
   ],
   "source": [
    "%%time\n",
    "vocab = Vocabulary()"
   ]
  },
  {
   "cell_type": "code",
   "execution_count": 4,
   "metadata": {},
   "outputs": [],
   "source": [
    "FILENAME = 'senti.{}.tsv'\n",
    "\n",
    "train_set = SentiDataset(FILENAME.format('train'), vocab)\n",
    "valid_set = SentiDataset(FILENAME.format('dev'), vocab)\n",
    "test_set = SentiDataset(FILENAME.format('test'), vocab)\n",
    "\n",
    "train_loader = get_dataloader(train_set, batch_size=BATCH_SIZE)\n",
    "valid_loader = get_dataloader(valid_set, batch_size=BATCH_SIZE)\n",
    "test_loader = get_dataloader(test_set, batch_size=BATCH_SIZE)"
   ]
  },
  {
   "cell_type": "markdown",
   "metadata": {},
   "source": [
    "# Word averaging model"
   ]
  },
  {
   "cell_type": "markdown",
   "metadata": {},
   "source": [
    "### Load model and learner"
   ]
  },
  {
   "cell_type": "code",
   "execution_count": 5,
   "metadata": {},
   "outputs": [],
   "source": [
    "word_avg = WordAveragingModel(len(vocab), embed_dim=EMBED_DIM, embed_dropout=EMBED_DROPOUT)"
   ]
  },
  {
   "cell_type": "code",
   "execution_count": 6,
   "metadata": {},
   "outputs": [],
   "source": [
    "learner = SentimentLearner(\n",
    "    model=word_avg,\n",
    "    train_loader=train_loader,\n",
    "    valid_loader=valid_loader,\n",
    "    loss_fn=loss_fn,\n",
    "    optim_cls=OPTIM_CLS,\n",
    "    lr=2.5e-4\n",
    ")"
   ]
  },
  {
   "cell_type": "markdown",
   "metadata": {},
   "source": [
    "### Train model"
   ]
  },
  {
   "cell_type": "code",
   "execution_count": 7,
   "metadata": {},
   "outputs": [
    {
     "name": "stdout",
     "output_type": "stream",
     "text": [
      "Epoch : 01\tWall time : 20.357s\n",
      "\tTrain Loss: 0.681 | Train Acc: 56.31%\n",
      "\tValid Loss: 0.665 | Valid Acc: 55.16%\n",
      "\tModel parameters saved to word_avg.pt\n",
      "Epoch : 02\tWall time : 20.557s\n",
      "\tTrain Loss: 0.639 | Train Acc: 66.08%\n",
      "\tValid Loss: 0.606 | Valid Acc: 72.71%\n",
      "\tModel parameters saved to word_avg.pt\n",
      "Epoch : 03\tWall time : 20.140s\n",
      "\tTrain Loss: 0.579 | Train Acc: 76.41%\n",
      "\tValid Loss: 0.546 | Valid Acc: 76.49%\n",
      "\tModel parameters saved to word_avg.pt\n",
      "Epoch : 04\tWall time : 20.379s\n",
      "\tTrain Loss: 0.521 | Train Acc: 80.80%\n",
      "\tValid Loss: 0.503 | Valid Acc: 77.98%\n",
      "\tModel parameters saved to word_avg.pt\n",
      "Epoch : 05\tWall time : 20.117s\n",
      "\tTrain Loss: 0.470 | Train Acc: 83.92%\n",
      "\tValid Loss: 0.471 | Valid Acc: 79.24%\n",
      "\tModel parameters saved to word_avg.pt\n",
      "Epoch : 06\tWall time : 20.334s\n",
      "\tTrain Loss: 0.428 | Train Acc: 86.10%\n",
      "\tValid Loss: 0.449 | Valid Acc: 80.16%\n",
      "\tModel parameters saved to word_avg.pt\n",
      "Epoch : 07\tWall time : 20.493s\n",
      "\tTrain Loss: 0.394 | Train Acc: 87.53%\n",
      "\tValid Loss: 0.435 | Valid Acc: 80.96%\n",
      "\tModel parameters saved to word_avg.pt\n",
      "Epoch : 08\tWall time : 20.455s\n",
      "\tTrain Loss: 0.365 | Train Acc: 88.48%\n",
      "\tValid Loss: 0.427 | Valid Acc: 80.85%\n",
      "\tModel parameters saved to word_avg.pt\n",
      "Epoch : 09\tWall time : 20.097s\n",
      "\tTrain Loss: 0.340 | Train Acc: 89.15%\n",
      "\tValid Loss: 0.421 | Valid Acc: 81.31%\n",
      "\tModel parameters saved to word_avg.pt\n",
      "Epoch : 10\tWall time : 20.073s\n",
      "\tTrain Loss: 0.321 | Train Acc: 89.84%\n",
      "\tValid Loss: 0.420 | Valid Acc: 81.31%\n",
      "\tModel parameters saved to word_avg.pt\n",
      "Epoch : 11\tWall time : 20.166s\n",
      "\tTrain Loss: 0.303 | Train Acc: 90.35%\n",
      "\tValid Loss: 0.422 | Valid Acc: 81.65%\n",
      "\n",
      "Epoch : 12\tWall time : 20.229s\n",
      "\tTrain Loss: 0.288 | Train Acc: 90.70%\n",
      "\tValid Loss: 0.424 | Valid Acc: 81.19%\n",
      "\n",
      "Epoch : 13\tWall time : 20.416s\n",
      "\tTrain Loss: 0.275 | Train Acc: 91.07%\n",
      "\tValid Loss: 0.427 | Valid Acc: 81.42%\n",
      "\n",
      "Epoch : 14\tWall time : 20.653s\n",
      "\tTrain Loss: 0.263 | Train Acc: 91.40%\n",
      "\tValid Loss: 0.432 | Valid Acc: 81.42%\n",
      "\n",
      "Epoch : 15\tWall time : 20.268s\n",
      "\tTrain Loss: 0.252 | Train Acc: 91.71%\n",
      "\tValid Loss: 0.438 | Valid Acc: 81.54%\n",
      "\n"
     ]
    }
   ],
   "source": [
    "word_avg_filename = 'word_avg.pt'\n",
    "learner.train(epochs=15, filename=word_avg_filename)"
   ]
  },
  {
   "cell_type": "markdown",
   "metadata": {},
   "source": [
    "### Load best model to evaluate"
   ]
  },
  {
   "cell_type": "code",
   "execution_count": 8,
   "metadata": {},
   "outputs": [],
   "source": [
    "learner.load_model_params(word_avg_filename)"
   ]
  },
  {
   "cell_type": "code",
   "execution_count": 9,
   "metadata": {},
   "outputs": [
    {
     "name": "stdout",
     "output_type": "stream",
     "text": [
      "\t Test Loss: 0.405 | Test Acc: 82.70%\n"
     ]
    }
   ],
   "source": [
    "test_loss, test_acc = learner.evaluate(test_loader)\n",
    "print(f'\\t Test Loss: {test_loss:.3f} | Test Acc: {test_acc * 100:.2f}%')"
   ]
  },
  {
   "cell_type": "markdown",
   "metadata": {},
   "source": [
    "## Norm of word embeddings"
   ]
  },
  {
   "cell_type": "code",
   "execution_count": 10,
   "metadata": {},
   "outputs": [],
   "source": [
    "word_embedding = learner.model.word_embedding\n",
    "norms = pd.Series(torch.linalg.norm(word_embedding, dim=1).cpu(), index=vocab.itos).sort_values()"
   ]
  },
  {
   "cell_type": "code",
   "execution_count": 11,
   "metadata": {},
   "outputs": [
    {
     "data": {
      "text/plain": [
       "too           5.560832\n",
       "touching      5.573279\n",
       "enjoyable     5.582615\n",
       "stupid        5.585888\n",
       "dull          5.610507\n",
       "terrific      5.646167\n",
       "remarkable    5.674034\n",
       "hilarious     5.688003\n",
       "best          5.706871\n",
       "flat          5.862432\n",
       "powerful      5.901927\n",
       "solid         5.991998\n",
       "mess          6.037328\n",
       "bad           6.715269\n",
       "worst         7.032340\n",
       "dtype: float32"
      ]
     },
     "execution_count": 11,
     "metadata": {},
     "output_type": "execute_result"
    }
   ],
   "source": [
    "norms.tail(15)"
   ]
  },
  {
   "cell_type": "code",
   "execution_count": 12,
   "metadata": {},
   "outputs": [
    {
     "data": {
      "text/plain": [
       "<pad>       0.000000\n",
       "<unk>       0.017731\n",
       "mikes       0.098789\n",
       "boom        0.102556\n",
       "the         0.105607\n",
       "conjured    0.106184\n",
       "liman       0.106737\n",
       "helpful     0.106941\n",
       "nubile      0.108074\n",
       "naipaul     0.108272\n",
       "examine     0.108533\n",
       "play-doh    0.109337\n",
       "mothman     0.110031\n",
       "amassed     0.110183\n",
       "flesh       0.110927\n",
       "dtype: float32"
      ]
     },
     "execution_count": 12,
     "metadata": {},
     "output_type": "execute_result"
    }
   ],
   "source": [
    "norms.head(15)"
   ]
  },
  {
   "cell_type": "markdown",
   "metadata": {},
   "source": [
    "# Attention weighted word averaging model\n",
    "## w/ cosine similarity attention"
   ]
  },
  {
   "cell_type": "markdown",
   "metadata": {},
   "source": [
    "### Load model and learner"
   ]
  },
  {
   "cell_type": "code",
   "execution_count": 13,
   "metadata": {},
   "outputs": [],
   "source": [
    "cos_att = AttentionWeightedWordAveragingModel(len(vocab), embed_dim=EMBED_DIM, attention=UAttention(EMBED_DIM), embed_dropout=EMBED_DROPOUT)"
   ]
  },
  {
   "cell_type": "code",
   "execution_count": 14,
   "metadata": {},
   "outputs": [],
   "source": [
    "learner = SentimentLearner(\n",
    "    model=cos_att,\n",
    "    train_loader=train_loader,\n",
    "    valid_loader=valid_loader,\n",
    "    loss_fn=loss_fn,\n",
    "    optim_cls=OPTIM_CLS,\n",
    "    lr=2.5e-4\n",
    ")"
   ]
  },
  {
   "cell_type": "markdown",
   "metadata": {},
   "source": [
    "### Train model"
   ]
  },
  {
   "cell_type": "code",
   "execution_count": 15,
   "metadata": {},
   "outputs": [
    {
     "name": "stdout",
     "output_type": "stream",
     "text": [
      "Epoch : 01\tWall time : 21.103s\n",
      "\tTrain Loss: 0.681 | Train Acc: 56.69%\n",
      "\tValid Loss: 0.662 | Valid Acc: 56.42%\n",
      "\tModel parameters saved to cos_att.pt\n",
      "Epoch : 02\tWall time : 21.193s\n",
      "\tTrain Loss: 0.634 | Train Acc: 69.38%\n",
      "\tValid Loss: 0.589 | Valid Acc: 75.34%\n",
      "\tModel parameters saved to cos_att.pt\n",
      "Epoch : 03\tWall time : 21.499s\n",
      "\tTrain Loss: 0.570 | Train Acc: 78.95%\n",
      "\tValid Loss: 0.528 | Valid Acc: 76.49%\n",
      "\tModel parameters saved to cos_att.pt\n",
      "Epoch : 04\tWall time : 21.535s\n",
      "\tTrain Loss: 0.508 | Train Acc: 82.79%\n",
      "\tValid Loss: 0.482 | Valid Acc: 77.52%\n",
      "\tModel parameters saved to cos_att.pt\n",
      "Epoch : 05\tWall time : 21.308s\n",
      "\tTrain Loss: 0.455 | Train Acc: 85.31%\n",
      "\tValid Loss: 0.452 | Valid Acc: 78.56%\n",
      "\tModel parameters saved to cos_att.pt\n",
      "Epoch : 06\tWall time : 21.191s\n",
      "\tTrain Loss: 0.413 | Train Acc: 87.06%\n",
      "\tValid Loss: 0.432 | Valid Acc: 79.82%\n",
      "\tModel parameters saved to cos_att.pt\n",
      "Epoch : 07\tWall time : 21.425s\n",
      "\tTrain Loss: 0.378 | Train Acc: 88.26%\n",
      "\tValid Loss: 0.426 | Valid Acc: 80.62%\n",
      "\tModel parameters saved to cos_att.pt\n",
      "Epoch : 08\tWall time : 21.334s\n",
      "\tTrain Loss: 0.350 | Train Acc: 89.18%\n",
      "\tValid Loss: 0.423 | Valid Acc: 81.54%\n",
      "\tModel parameters saved to cos_att.pt\n",
      "Epoch : 09\tWall time : 21.184s\n",
      "\tTrain Loss: 0.326 | Train Acc: 89.81%\n",
      "\tValid Loss: 0.420 | Valid Acc: 81.54%\n",
      "\tModel parameters saved to cos_att.pt\n",
      "Epoch : 10\tWall time : 16.371s\n",
      "\tTrain Loss: 0.305 | Train Acc: 90.37%\n",
      "\tValid Loss: 0.425 | Valid Acc: 81.42%\n",
      "\n",
      "Epoch : 11\tWall time : 16.490s\n",
      "\tTrain Loss: 0.290 | Train Acc: 90.88%\n",
      "\tValid Loss: 0.429 | Valid Acc: 81.19%\n",
      "\n",
      "Epoch : 12\tWall time : 16.069s\n",
      "\tTrain Loss: 0.275 | Train Acc: 91.24%\n",
      "\tValid Loss: 0.434 | Valid Acc: 81.54%\n",
      "\n",
      "Epoch : 13\tWall time : 17.531s\n",
      "\tTrain Loss: 0.261 | Train Acc: 91.53%\n",
      "\tValid Loss: 0.441 | Valid Acc: 81.54%\n",
      "\n",
      "Epoch : 14\tWall time : 16.456s\n",
      "\tTrain Loss: 0.250 | Train Acc: 91.85%\n",
      "\tValid Loss: 0.453 | Valid Acc: 81.54%\n",
      "\n",
      "Epoch : 15\tWall time : 16.632s\n",
      "\tTrain Loss: 0.239 | Train Acc: 92.10%\n",
      "\tValid Loss: 0.462 | Valid Acc: 81.08%\n",
      "\n"
     ]
    }
   ],
   "source": [
    "cos_att_filename = 'cos_att.pt'\n",
    "learner.train(epochs=15, filename=cos_att_filename)"
   ]
  },
  {
   "cell_type": "markdown",
   "metadata": {},
   "source": [
    "### Load best model to evaluate"
   ]
  },
  {
   "cell_type": "code",
   "execution_count": 16,
   "metadata": {},
   "outputs": [],
   "source": [
    "learner.load_model_params(cos_att_filename)"
   ]
  },
  {
   "cell_type": "code",
   "execution_count": 17,
   "metadata": {},
   "outputs": [
    {
     "name": "stdout",
     "output_type": "stream",
     "text": [
      "\t Test Loss: 0.408 | Test Acc: 82.59%\n"
     ]
    }
   ],
   "source": [
    "test_loss, test_acc = learner.evaluate(test_loader)\n",
    "print(f'\\t Test Loss: {test_loss:.3f} | Test Acc: {test_acc * 100:.2f}%')"
   ]
  },
  {
   "cell_type": "markdown",
   "metadata": {},
   "source": [
    "## Cosine similarities between vector u and word embeddings"
   ]
  },
  {
   "cell_type": "code",
   "execution_count": 18,
   "metadata": {},
   "outputs": [],
   "source": [
    "att_layer = learner.model.attention\n",
    "embeddings = learner.model.embedding.weight.data\n",
    "\n",
    "cosine_similarities = pd.Series(att_layer.cosine_similarity_to_u(embeddings).detach().cpu(), index=vocab.itos).sort_values()"
   ]
  },
  {
   "cell_type": "code",
   "execution_count": 19,
   "metadata": {},
   "outputs": [
    {
     "data": {
      "text/plain": [
       "buñuel           0.906117\n",
       "batman           0.916345\n",
       "single-minded    0.920338\n",
       "framing          0.920856\n",
       "litmus           0.921431\n",
       "spider           0.922717\n",
       "semen            0.926541\n",
       "seventeen        0.929638\n",
       "substances       0.939480\n",
       "reduced          0.947320\n",
       "detract          0.950214\n",
       "fluffy           0.951300\n",
       "ignorant         0.958962\n",
       "disappoint       0.959875\n",
       "overrun          0.971206\n",
       "dtype: float32"
      ]
     },
     "execution_count": 19,
     "metadata": {},
     "output_type": "execute_result"
    }
   ],
   "source": [
    "cosine_similarities.tail(15)"
   ]
  },
  {
   "cell_type": "code",
   "execution_count": 20,
   "metadata": {},
   "outputs": [
    {
     "data": {
      "text/plain": [
       "'s          -0.997794\n",
       "maintain    -0.997158\n",
       "abroad      -0.996859\n",
       "the         -0.996841\n",
       "his         -0.996395\n",
       "attempted   -0.994953\n",
       "can         -0.994933\n",
       "across      -0.994708\n",
       "readily     -0.994629\n",
       "change      -0.993961\n",
       "earnhart    -0.992934\n",
       "clubs       -0.992809\n",
       "hoffman     -0.992687\n",
       "its         -0.992424\n",
       "--          -0.992422\n",
       "dtype: float32"
      ]
     },
     "execution_count": 20,
     "metadata": {},
     "output_type": "execute_result"
    }
   ],
   "source": [
    "cosine_similarities.head(15)"
   ]
  },
  {
   "cell_type": "markdown",
   "metadata": {},
   "source": [
    "## Attention variance among frequent words in the training set"
   ]
  },
  {
   "cell_type": "code",
   "execution_count": 21,
   "metadata": {},
   "outputs": [],
   "source": [
    "import bisect\n",
    "from collections import defaultdict\n",
    "\n",
    "MAX_FREQ = 100\n",
    "upper_bound = len(vocab) - bisect.bisect_right(vocab.freqs[::-1], MAX_FREQ)\n",
    "\n",
    "@torch.no_grad()\n",
    "def get_attention_stats(learner):\n",
    "    attentions = defaultdict(list)\n",
    "    \n",
    "    embedding_layer = learner.model.embedding\n",
    "    attention_layer = learner.model.attention\n",
    "    for batch in train_loader:\n",
    "        sequences, _ = batch\n",
    "        sequences = sequences.to(learner.device)\n",
    "        \n",
    "        mask = torch.where(sequences < upper_bound, sequences, 0).bool()\n",
    "        attention = attention_layer(embedding_layer(sequences))\n",
    "        masked_sequences = torch.masked_select(sequences, mask).tolist()\n",
    "        masked_attention = torch.masked_select(attention, mask).tolist()\n",
    "        for i, att in zip(masked_sequences, masked_attention):\n",
    "            attentions[i].append(att)\n",
    "        \n",
    "    return attentions"
   ]
  },
  {
   "cell_type": "code",
   "execution_count": 22,
   "metadata": {},
   "outputs": [
    {
     "name": "stdout",
     "output_type": "stream",
     "text": [
      "CPU times: user 15.2 s, sys: 32 ms, total: 15.3 s\n",
      "Wall time: 15.2 s\n"
     ]
    }
   ],
   "source": [
    "%%time\n",
    "stats = get_attention_stats(learner)"
   ]
  },
  {
   "cell_type": "code",
   "execution_count": 23,
   "metadata": {},
   "outputs": [],
   "source": [
    "df = pd.DataFrame(columns=['word', 'mean', 'std'])\n",
    "for k, v in stats.items():\n",
    "    attentions = torch.Tensor(v)\n",
    "    df = df.append({'word': vocab.itos[k], 'mean': attentions.mean().item(), 'std': attentions.std().item()}, ignore_index=True)"
   ]
  },
  {
   "cell_type": "code",
   "execution_count": 24,
   "metadata": {},
   "outputs": [
    {
     "data": {
      "text/html": [
       "<div>\n",
       "<style scoped>\n",
       "    .dataframe tbody tr th:only-of-type {\n",
       "        vertical-align: middle;\n",
       "    }\n",
       "\n",
       "    .dataframe tbody tr th {\n",
       "        vertical-align: top;\n",
       "    }\n",
       "\n",
       "    .dataframe thead th {\n",
       "        text-align: right;\n",
       "    }\n",
       "</style>\n",
       "<table border=\"1\" class=\"dataframe\">\n",
       "  <thead>\n",
       "    <tr style=\"text-align: right;\">\n",
       "      <th></th>\n",
       "      <th>mean</th>\n",
       "      <th>std</th>\n",
       "    </tr>\n",
       "    <tr>\n",
       "      <th>word</th>\n",
       "      <th></th>\n",
       "      <th></th>\n",
       "    </tr>\n",
       "  </thead>\n",
       "  <tbody>\n",
       "    <tr>\n",
       "      <th>barely</th>\n",
       "      <td>0.049382</td>\n",
       "      <td>0.008265</td>\n",
       "    </tr>\n",
       "    <tr>\n",
       "      <th>instead</th>\n",
       "      <td>0.049393</td>\n",
       "      <td>0.008019</td>\n",
       "    </tr>\n",
       "    <tr>\n",
       "      <th>cheap</th>\n",
       "      <td>0.047593</td>\n",
       "      <td>0.007967</td>\n",
       "    </tr>\n",
       "    <tr>\n",
       "      <th>waste</th>\n",
       "      <td>0.049800</td>\n",
       "      <td>0.007646</td>\n",
       "    </tr>\n",
       "    <tr>\n",
       "      <th>less</th>\n",
       "      <td>0.049640</td>\n",
       "      <td>0.007280</td>\n",
       "    </tr>\n",
       "    <tr>\n",
       "      <th>clichés</th>\n",
       "      <td>0.049397</td>\n",
       "      <td>0.007139</td>\n",
       "    </tr>\n",
       "    <tr>\n",
       "      <th>left</th>\n",
       "      <td>0.047434</td>\n",
       "      <td>0.007084</td>\n",
       "    </tr>\n",
       "    <tr>\n",
       "      <th>feels</th>\n",
       "      <td>0.046004</td>\n",
       "      <td>0.007079</td>\n",
       "    </tr>\n",
       "    <tr>\n",
       "      <th>awful</th>\n",
       "      <td>0.049558</td>\n",
       "      <td>0.007071</td>\n",
       "    </tr>\n",
       "    <tr>\n",
       "      <th>neither</th>\n",
       "      <td>0.049954</td>\n",
       "      <td>0.007061</td>\n",
       "    </tr>\n",
       "    <tr>\n",
       "      <th>impossible</th>\n",
       "      <td>0.045033</td>\n",
       "      <td>0.007035</td>\n",
       "    </tr>\n",
       "    <tr>\n",
       "      <th>same</th>\n",
       "      <td>0.045890</td>\n",
       "      <td>0.006999</td>\n",
       "    </tr>\n",
       "    <tr>\n",
       "      <th>jokes</th>\n",
       "      <td>0.046611</td>\n",
       "      <td>0.006984</td>\n",
       "    </tr>\n",
       "    <tr>\n",
       "      <th>none</th>\n",
       "      <td>0.051712</td>\n",
       "      <td>0.006953</td>\n",
       "    </tr>\n",
       "    <tr>\n",
       "      <th>thin</th>\n",
       "      <td>0.047809</td>\n",
       "      <td>0.006940</td>\n",
       "    </tr>\n",
       "    <tr>\n",
       "      <th>cold</th>\n",
       "      <td>0.048563</td>\n",
       "      <td>0.006934</td>\n",
       "    </tr>\n",
       "    <tr>\n",
       "      <th>dumb</th>\n",
       "      <td>0.048920</td>\n",
       "      <td>0.006919</td>\n",
       "    </tr>\n",
       "    <tr>\n",
       "      <th>bland</th>\n",
       "      <td>0.048672</td>\n",
       "      <td>0.006901</td>\n",
       "    </tr>\n",
       "    <tr>\n",
       "      <th>trying</th>\n",
       "      <td>0.047351</td>\n",
       "      <td>0.006874</td>\n",
       "    </tr>\n",
       "    <tr>\n",
       "      <th>mess</th>\n",
       "      <td>0.049698</td>\n",
       "      <td>0.006870</td>\n",
       "    </tr>\n",
       "    <tr>\n",
       "      <th>video</th>\n",
       "      <td>0.046145</td>\n",
       "      <td>0.006861</td>\n",
       "    </tr>\n",
       "    <tr>\n",
       "      <th>nor</th>\n",
       "      <td>0.050573</td>\n",
       "      <td>0.006809</td>\n",
       "    </tr>\n",
       "    <tr>\n",
       "      <th>lacking</th>\n",
       "      <td>0.050442</td>\n",
       "      <td>0.006784</td>\n",
       "    </tr>\n",
       "    <tr>\n",
       "      <th>not</th>\n",
       "      <td>0.047695</td>\n",
       "      <td>0.006751</td>\n",
       "    </tr>\n",
       "    <tr>\n",
       "      <th>were</th>\n",
       "      <td>0.047765</td>\n",
       "      <td>0.006726</td>\n",
       "    </tr>\n",
       "    <tr>\n",
       "      <th>idea</th>\n",
       "      <td>0.047190</td>\n",
       "      <td>0.006716</td>\n",
       "    </tr>\n",
       "    <tr>\n",
       "      <th>no</th>\n",
       "      <td>0.048628</td>\n",
       "      <td>0.006704</td>\n",
       "    </tr>\n",
       "    <tr>\n",
       "      <th>lacks</th>\n",
       "      <td>0.050171</td>\n",
       "      <td>0.006703</td>\n",
       "    </tr>\n",
       "    <tr>\n",
       "      <th>down</th>\n",
       "      <td>0.045916</td>\n",
       "      <td>0.006703</td>\n",
       "    </tr>\n",
       "    <tr>\n",
       "      <th>fails</th>\n",
       "      <td>0.051350</td>\n",
       "      <td>0.006693</td>\n",
       "    </tr>\n",
       "  </tbody>\n",
       "</table>\n",
       "</div>"
      ],
      "text/plain": [
       "                mean       std\n",
       "word                          \n",
       "barely      0.049382  0.008265\n",
       "instead     0.049393  0.008019\n",
       "cheap       0.047593  0.007967\n",
       "waste       0.049800  0.007646\n",
       "less        0.049640  0.007280\n",
       "clichés     0.049397  0.007139\n",
       "left        0.047434  0.007084\n",
       "feels       0.046004  0.007079\n",
       "awful       0.049558  0.007071\n",
       "neither     0.049954  0.007061\n",
       "impossible  0.045033  0.007035\n",
       "same        0.045890  0.006999\n",
       "jokes       0.046611  0.006984\n",
       "none        0.051712  0.006953\n",
       "thin        0.047809  0.006940\n",
       "cold        0.048563  0.006934\n",
       "dumb        0.048920  0.006919\n",
       "bland       0.048672  0.006901\n",
       "trying      0.047351  0.006874\n",
       "mess        0.049698  0.006870\n",
       "video       0.046145  0.006861\n",
       "nor         0.050573  0.006809\n",
       "lacking     0.050442  0.006784\n",
       "not         0.047695  0.006751\n",
       "were        0.047765  0.006726\n",
       "idea        0.047190  0.006716\n",
       "no          0.048628  0.006704\n",
       "lacks       0.050171  0.006703\n",
       "down        0.045916  0.006703\n",
       "fails       0.051350  0.006693"
      ]
     },
     "execution_count": 24,
     "metadata": {},
     "output_type": "execute_result"
    }
   ],
   "source": [
    "df = df.sort_values('std', ascending=False)\n",
    "df = df.set_index('word', drop=True)\n",
    "df.head(30)"
   ]
  },
  {
   "cell_type": "markdown",
   "metadata": {},
   "source": [
    "# Attention weighted word averaging model\n",
    "## w/ dot product self-attention"
   ]
  },
  {
   "cell_type": "markdown",
   "metadata": {},
   "source": [
    "### Load model and learner"
   ]
  },
  {
   "cell_type": "code",
   "execution_count": 25,
   "metadata": {},
   "outputs": [],
   "source": [
    "dp_att = AttentionWeightedWordAveragingModel(len(vocab), embed_dim=EMBED_DIM, attention=dot_product_self_attention, embed_dropout=EMBED_DROPOUT)"
   ]
  },
  {
   "cell_type": "code",
   "execution_count": 26,
   "metadata": {},
   "outputs": [],
   "source": [
    "learner = SentimentLearner(\n",
    "    model=dp_att,\n",
    "    train_loader=train_loader,\n",
    "    valid_loader=valid_loader,\n",
    "    loss_fn=loss_fn,\n",
    "    optim_cls=OPTIM_CLS,\n",
    "    lr=5e-5\n",
    ")"
   ]
  },
  {
   "cell_type": "markdown",
   "metadata": {},
   "source": [
    "### Train model"
   ]
  },
  {
   "cell_type": "code",
   "execution_count": 27,
   "metadata": {},
   "outputs": [
    {
     "name": "stdout",
     "output_type": "stream",
     "text": [
      "Epoch : 01\tWall time : 19.229s\n",
      "\tTrain Loss: 0.690 | Train Acc: 55.78%\n",
      "\tValid Loss: 0.690 | Valid Acc: 50.92%\n",
      "\tModel parameters saved to dp_att.pt\n",
      "Epoch : 02\tWall time : 19.918s\n",
      "\tTrain Loss: 0.684 | Train Acc: 55.93%\n",
      "\tValid Loss: 0.673 | Valid Acc: 51.95%\n",
      "\tModel parameters saved to dp_att.pt\n",
      "Epoch : 03\tWall time : 19.813s\n",
      "\tTrain Loss: 0.659 | Train Acc: 60.19%\n",
      "\tValid Loss: 0.626 | Valid Acc: 65.60%\n",
      "\tModel parameters saved to dp_att.pt\n",
      "Epoch : 04\tWall time : 20.113s\n",
      "\tTrain Loss: 0.615 | Train Acc: 67.99%\n",
      "\tValid Loss: 0.573 | Valid Acc: 72.25%\n",
      "\tModel parameters saved to dp_att.pt\n",
      "Epoch : 05\tWall time : 20.303s\n",
      "\tTrain Loss: 0.575 | Train Acc: 71.66%\n",
      "\tValid Loss: 0.543 | Valid Acc: 73.85%\n",
      "\tModel parameters saved to dp_att.pt\n",
      "Epoch : 06\tWall time : 20.363s\n",
      "\tTrain Loss: 0.543 | Train Acc: 73.95%\n",
      "\tValid Loss: 0.525 | Valid Acc: 74.66%\n",
      "\tModel parameters saved to dp_att.pt\n",
      "Epoch : 07\tWall time : 20.750s\n",
      "\tTrain Loss: 0.516 | Train Acc: 75.85%\n",
      "\tValid Loss: 0.513 | Valid Acc: 75.11%\n",
      "\tModel parameters saved to dp_att.pt\n",
      "Epoch : 08\tWall time : 20.365s\n",
      "\tTrain Loss: 0.491 | Train Acc: 77.44%\n",
      "\tValid Loss: 0.507 | Valid Acc: 76.38%\n",
      "\tModel parameters saved to dp_att.pt\n",
      "Epoch : 09\tWall time : 20.246s\n",
      "\tTrain Loss: 0.468 | Train Acc: 78.76%\n",
      "\tValid Loss: 0.504 | Valid Acc: 76.49%\n",
      "\tModel parameters saved to dp_att.pt\n",
      "Epoch : 10\tWall time : 20.260s\n",
      "\tTrain Loss: 0.449 | Train Acc: 79.90%\n",
      "\tValid Loss: 0.503 | Valid Acc: 76.72%\n",
      "\tModel parameters saved to dp_att.pt\n",
      "Epoch : 11\tWall time : 20.580s\n",
      "\tTrain Loss: 0.431 | Train Acc: 80.98%\n",
      "\tValid Loss: 0.503 | Valid Acc: 76.83%\n",
      "\tModel parameters saved to dp_att.pt\n",
      "Epoch : 12\tWall time : 20.281s\n",
      "\tTrain Loss: 0.416 | Train Acc: 81.80%\n",
      "\tValid Loss: 0.505 | Valid Acc: 77.18%\n",
      "\n",
      "Epoch : 13\tWall time : 20.504s\n",
      "\tTrain Loss: 0.402 | Train Acc: 82.61%\n",
      "\tValid Loss: 0.509 | Valid Acc: 77.75%\n",
      "\n",
      "Epoch : 14\tWall time : 20.446s\n",
      "\tTrain Loss: 0.389 | Train Acc: 83.23%\n",
      "\tValid Loss: 0.512 | Valid Acc: 77.29%\n",
      "\n",
      "Epoch : 15\tWall time : 20.275s\n",
      "\tTrain Loss: 0.377 | Train Acc: 83.92%\n",
      "\tValid Loss: 0.517 | Valid Acc: 77.75%\n",
      "\n"
     ]
    }
   ],
   "source": [
    "dp_att_filename = 'dp_att.pt'\n",
    "learner.train(epochs=15, filename=dp_att_filename)"
   ]
  },
  {
   "cell_type": "markdown",
   "metadata": {},
   "source": [
    "### Load best model to evaluate"
   ]
  },
  {
   "cell_type": "code",
   "execution_count": 28,
   "metadata": {},
   "outputs": [],
   "source": [
    "learner.load_model_params(dp_att_filename)"
   ]
  },
  {
   "cell_type": "code",
   "execution_count": 29,
   "metadata": {},
   "outputs": [
    {
     "name": "stdout",
     "output_type": "stream",
     "text": [
      "\t Test Loss: 0.484 | Test Acc: 77.70%\n"
     ]
    }
   ],
   "source": [
    "test_loss, test_acc = learner.evaluate(test_loader)\n",
    "print(f'\\t Test Loss: {test_loss:.3f} | Test Acc: {test_acc * 100:.2f}%')"
   ]
  },
  {
   "cell_type": "markdown",
   "metadata": {},
   "source": [
    "# Attention weighted word averaging model\n",
    "## w/ dot product self-attention\n",
    "## adding residual connection"
   ]
  },
  {
   "cell_type": "markdown",
   "metadata": {},
   "source": [
    "### Load model and learner"
   ]
  },
  {
   "cell_type": "code",
   "execution_count": 30,
   "metadata": {},
   "outputs": [],
   "source": [
    "dp_att_rc = AttentionWeightedWordAveragingModel(len(vocab), embed_dim=EMBED_DIM, attention=dot_product_self_attention, res_conn=True, embed_dropout=EMBED_DROPOUT)"
   ]
  },
  {
   "cell_type": "code",
   "execution_count": 31,
   "metadata": {},
   "outputs": [],
   "source": [
    "learner = SentimentLearner(\n",
    "    model=dp_att_rc,\n",
    "    train_loader=train_loader,\n",
    "    valid_loader=valid_loader,\n",
    "    loss_fn=loss_fn,\n",
    "    optim_cls=OPTIM_CLS,\n",
    "    lr=5e-5\n",
    ")"
   ]
  },
  {
   "cell_type": "markdown",
   "metadata": {},
   "source": [
    "### Train model"
   ]
  },
  {
   "cell_type": "code",
   "execution_count": 32,
   "metadata": {},
   "outputs": [
    {
     "name": "stdout",
     "output_type": "stream",
     "text": [
      "Epoch : 01\tWall time : 20.527s\n",
      "\tTrain Loss: 0.691 | Train Acc: 55.82%\n",
      "\tValid Loss: 0.688 | Valid Acc: 50.92%\n",
      "\tModel parameters saved to dp_att_rc.pt\n",
      "Epoch : 02\tWall time : 20.310s\n",
      "\tTrain Loss: 0.683 | Train Acc: 57.68%\n",
      "\tValid Loss: 0.671 | Valid Acc: 54.82%\n",
      "\tModel parameters saved to dp_att_rc.pt\n",
      "Epoch : 03\tWall time : 20.543s\n",
      "\tTrain Loss: 0.660 | Train Acc: 63.50%\n",
      "\tValid Loss: 0.631 | Valid Acc: 65.83%\n",
      "\tModel parameters saved to dp_att_rc.pt\n",
      "Epoch : 04\tWall time : 20.661s\n",
      "\tTrain Loss: 0.619 | Train Acc: 70.64%\n",
      "\tValid Loss: 0.577 | Valid Acc: 73.74%\n",
      "\tModel parameters saved to dp_att_rc.pt\n",
      "Epoch : 05\tWall time : 20.043s\n",
      "\tTrain Loss: 0.576 | Train Acc: 74.57%\n",
      "\tValid Loss: 0.540 | Valid Acc: 74.66%\n",
      "\tModel parameters saved to dp_att_rc.pt\n",
      "Epoch : 06\tWall time : 20.526s\n",
      "\tTrain Loss: 0.540 | Train Acc: 76.64%\n",
      "\tValid Loss: 0.520 | Valid Acc: 75.34%\n",
      "\tModel parameters saved to dp_att_rc.pt\n",
      "Epoch : 07\tWall time : 20.515s\n",
      "\tTrain Loss: 0.510 | Train Acc: 78.43%\n",
      "\tValid Loss: 0.507 | Valid Acc: 75.69%\n",
      "\tModel parameters saved to dp_att_rc.pt\n",
      "Epoch : 08\tWall time : 20.328s\n",
      "\tTrain Loss: 0.483 | Train Acc: 79.88%\n",
      "\tValid Loss: 0.499 | Valid Acc: 76.83%\n",
      "\tModel parameters saved to dp_att_rc.pt\n",
      "Epoch : 09\tWall time : 20.255s\n",
      "\tTrain Loss: 0.460 | Train Acc: 81.17%\n",
      "\tValid Loss: 0.495 | Valid Acc: 77.18%\n",
      "\tModel parameters saved to dp_att_rc.pt\n",
      "Epoch : 10\tWall time : 20.408s\n",
      "\tTrain Loss: 0.439 | Train Acc: 82.17%\n",
      "\tValid Loss: 0.493 | Valid Acc: 77.64%\n",
      "\tModel parameters saved to dp_att_rc.pt\n",
      "Epoch : 11\tWall time : 20.515s\n",
      "\tTrain Loss: 0.420 | Train Acc: 83.19%\n",
      "\tValid Loss: 0.494 | Valid Acc: 78.10%\n",
      "\n",
      "Epoch : 12\tWall time : 20.261s\n",
      "\tTrain Loss: 0.404 | Train Acc: 83.97%\n",
      "\tValid Loss: 0.496 | Valid Acc: 78.10%\n",
      "\n",
      "Epoch : 13\tWall time : 20.460s\n",
      "\tTrain Loss: 0.389 | Train Acc: 84.67%\n",
      "\tValid Loss: 0.500 | Valid Acc: 78.44%\n",
      "\n",
      "Epoch : 14\tWall time : 20.082s\n",
      "\tTrain Loss: 0.376 | Train Acc: 85.38%\n",
      "\tValid Loss: 0.502 | Valid Acc: 78.33%\n",
      "\n",
      "Epoch : 15\tWall time : 20.703s\n",
      "\tTrain Loss: 0.363 | Train Acc: 85.92%\n",
      "\tValid Loss: 0.506 | Valid Acc: 78.78%\n",
      "\n"
     ]
    }
   ],
   "source": [
    "dp_att_rc_filename = 'dp_att_rc.pt'\n",
    "learner.train(epochs=15, filename=dp_att_rc_filename)"
   ]
  },
  {
   "cell_type": "markdown",
   "metadata": {},
   "source": [
    "### Load best model to evaluate"
   ]
  },
  {
   "cell_type": "code",
   "execution_count": 33,
   "metadata": {},
   "outputs": [],
   "source": [
    "learner.load_model_params(dp_att_rc_filename)"
   ]
  },
  {
   "cell_type": "code",
   "execution_count": 34,
   "metadata": {},
   "outputs": [
    {
     "name": "stdout",
     "output_type": "stream",
     "text": [
      "\t Test Loss: 0.479 | Test Acc: 78.03%\n"
     ]
    }
   ],
   "source": [
    "test_loss, test_acc = learner.evaluate(test_loader)\n",
    "print(f'\\t Test Loss: {test_loss:.3f} | Test Acc: {test_acc * 100:.2f}%')"
   ]
  },
  {
   "cell_type": "markdown",
   "metadata": {},
   "source": [
    "# Transformer style attention model\n",
    "## w/ single attention head"
   ]
  },
  {
   "cell_type": "markdown",
   "metadata": {},
   "source": [
    "### Load model and learner"
   ]
  },
  {
   "cell_type": "code",
   "execution_count": 35,
   "metadata": {},
   "outputs": [],
   "source": [
    "single_head = MultiHeadSelfAttentionModel(len(vocab), model_dim=EMBED_DIM, num_heads=1, embed_dropout=EMBED_DROPOUT)"
   ]
  },
  {
   "cell_type": "code",
   "execution_count": 36,
   "metadata": {},
   "outputs": [],
   "source": [
    "learner = SentimentLearner(\n",
    "    model=single_head,\n",
    "    train_loader=train_loader,\n",
    "    valid_loader=valid_loader,\n",
    "    loss_fn=loss_fn,\n",
    "    optim_cls=OPTIM_CLS,\n",
    "    lr=5e-6\n",
    ")"
   ]
  },
  {
   "cell_type": "markdown",
   "metadata": {},
   "source": [
    "### Train model"
   ]
  },
  {
   "cell_type": "code",
   "execution_count": 37,
   "metadata": {},
   "outputs": [
    {
     "name": "stdout",
     "output_type": "stream",
     "text": [
      "Epoch : 01\tWall time : 23.899s\n",
      "\tTrain Loss: 0.704 | Train Acc: 48.00%\n",
      "\tValid Loss: 0.688 | Valid Acc: 50.92%\n",
      "\tModel parameters saved to single_head.pt\n",
      "Epoch : 02\tWall time : 23.832s\n",
      "\tTrain Loss: 0.679 | Train Acc: 55.79%\n",
      "\tValid Loss: 0.679 | Valid Acc: 50.92%\n",
      "\tModel parameters saved to single_head.pt\n",
      "Epoch : 03\tWall time : 23.233s\n",
      "\tTrain Loss: 0.659 | Train Acc: 57.61%\n",
      "\tValid Loss: 0.644 | Valid Acc: 60.44%\n",
      "\tModel parameters saved to single_head.pt\n",
      "Epoch : 04\tWall time : 23.588s\n",
      "\tTrain Loss: 0.619 | Train Acc: 66.96%\n",
      "\tValid Loss: 0.592 | Valid Acc: 73.85%\n",
      "\tModel parameters saved to single_head.pt\n",
      "Epoch : 05\tWall time : 24.076s\n",
      "\tTrain Loss: 0.565 | Train Acc: 74.95%\n",
      "\tValid Loss: 0.539 | Valid Acc: 76.72%\n",
      "\tModel parameters saved to single_head.pt\n",
      "Epoch : 06\tWall time : 23.817s\n",
      "\tTrain Loss: 0.508 | Train Acc: 79.64%\n",
      "\tValid Loss: 0.492 | Valid Acc: 77.18%\n",
      "\tModel parameters saved to single_head.pt\n",
      "Epoch : 07\tWall time : 23.812s\n",
      "\tTrain Loss: 0.454 | Train Acc: 83.10%\n",
      "\tValid Loss: 0.461 | Valid Acc: 78.44%\n",
      "\tModel parameters saved to single_head.pt\n",
      "Epoch : 08\tWall time : 23.800s\n",
      "\tTrain Loss: 0.407 | Train Acc: 85.63%\n",
      "\tValid Loss: 0.440 | Valid Acc: 80.73%\n",
      "\tModel parameters saved to single_head.pt\n",
      "Epoch : 09\tWall time : 23.465s\n",
      "\tTrain Loss: 0.366 | Train Acc: 87.50%\n",
      "\tValid Loss: 0.427 | Valid Acc: 81.31%\n",
      "\tModel parameters saved to single_head.pt\n",
      "Epoch : 10\tWall time : 23.603s\n",
      "\tTrain Loss: 0.334 | Train Acc: 88.65%\n",
      "\tValid Loss: 0.424 | Valid Acc: 82.11%\n",
      "\tModel parameters saved to single_head.pt\n",
      "Epoch : 11\tWall time : 23.758s\n",
      "\tTrain Loss: 0.307 | Train Acc: 89.40%\n",
      "\tValid Loss: 0.427 | Valid Acc: 82.11%\n",
      "\n",
      "Epoch : 12\tWall time : 23.635s\n",
      "\tTrain Loss: 0.286 | Train Acc: 90.05%\n",
      "\tValid Loss: 0.430 | Valid Acc: 82.00%\n",
      "\n",
      "Epoch : 13\tWall time : 23.555s\n",
      "\tTrain Loss: 0.267 | Train Acc: 90.53%\n",
      "\tValid Loss: 0.440 | Valid Acc: 82.00%\n",
      "\n",
      "Epoch : 14\tWall time : 23.568s\n",
      "\tTrain Loss: 0.251 | Train Acc: 90.99%\n",
      "\tValid Loss: 0.454 | Valid Acc: 81.77%\n",
      "\n",
      "Epoch : 15\tWall time : 23.448s\n",
      "\tTrain Loss: 0.238 | Train Acc: 91.42%\n",
      "\tValid Loss: 0.461 | Valid Acc: 81.77%\n",
      "\n",
      "Epoch : 16\tWall time : 23.678s\n",
      "\tTrain Loss: 0.227 | Train Acc: 91.75%\n",
      "\tValid Loss: 0.473 | Valid Acc: 81.65%\n",
      "\n",
      "Epoch : 17\tWall time : 23.375s\n",
      "\tTrain Loss: 0.217 | Train Acc: 92.06%\n",
      "\tValid Loss: 0.485 | Valid Acc: 82.11%\n",
      "\n",
      "Epoch : 18\tWall time : 23.694s\n",
      "\tTrain Loss: 0.209 | Train Acc: 92.37%\n",
      "\tValid Loss: 0.496 | Valid Acc: 82.22%\n",
      "\n",
      "Epoch : 19\tWall time : 23.430s\n",
      "\tTrain Loss: 0.201 | Train Acc: 92.60%\n",
      "\tValid Loss: 0.510 | Valid Acc: 82.00%\n",
      "\n",
      "Epoch : 20\tWall time : 23.878s\n",
      "\tTrain Loss: 0.194 | Train Acc: 92.88%\n",
      "\tValid Loss: 0.530 | Valid Acc: 82.22%\n",
      "\n"
     ]
    }
   ],
   "source": [
    "single_head_filename = 'single_head.pt'\n",
    "learner.train(epochs=20, filename=single_head_filename)"
   ]
  },
  {
   "cell_type": "markdown",
   "metadata": {},
   "source": [
    "### Load best model to evaluate"
   ]
  },
  {
   "cell_type": "code",
   "execution_count": 38,
   "metadata": {},
   "outputs": [],
   "source": [
    "learner.load_model_params(single_head_filename)"
   ]
  },
  {
   "cell_type": "code",
   "execution_count": 39,
   "metadata": {},
   "outputs": [
    {
     "name": "stdout",
     "output_type": "stream",
     "text": [
      "\t Test Loss: 0.407 | Test Acc: 82.43%\n"
     ]
    }
   ],
   "source": [
    "test_loss, test_acc = learner.evaluate(test_loader)\n",
    "print(f'\\t Test Loss: {test_loss:.3f} | Test Acc: {test_acc * 100:.2f}%')"
   ]
  },
  {
   "cell_type": "markdown",
   "metadata": {},
   "source": [
    "# Transformer style attention model\n",
    "## w/ single attention head & positional encoding"
   ]
  },
  {
   "cell_type": "markdown",
   "metadata": {},
   "source": [
    "### Load model and learner"
   ]
  },
  {
   "cell_type": "code",
   "execution_count": 40,
   "metadata": {},
   "outputs": [],
   "source": [
    "single_head_pe = MultiHeadSelfAttentionModel(len(vocab), model_dim=EMBED_DIM, num_heads=1, pos_encode=True, embed_dropout=EMBED_DROPOUT)"
   ]
  },
  {
   "cell_type": "code",
   "execution_count": 41,
   "metadata": {},
   "outputs": [],
   "source": [
    "learner = SentimentLearner(\n",
    "    model=single_head_pe,\n",
    "    train_loader=train_loader,\n",
    "    valid_loader=valid_loader,\n",
    "    loss_fn=loss_fn,\n",
    "    optim_cls=OPTIM_CLS,\n",
    "    lr=5e-6\n",
    ")"
   ]
  },
  {
   "cell_type": "markdown",
   "metadata": {},
   "source": [
    "### Train model"
   ]
  },
  {
   "cell_type": "code",
   "execution_count": 42,
   "metadata": {},
   "outputs": [
    {
     "name": "stdout",
     "output_type": "stream",
     "text": [
      "Epoch : 01\tWall time : 24.271s\n",
      "\tTrain Loss: 0.692 | Train Acc: 51.99%\n",
      "\tValid Loss: 0.693 | Valid Acc: 50.92%\n",
      "\tModel parameters saved to single_head_pe.pt\n",
      "Epoch : 02\tWall time : 24.432s\n",
      "\tTrain Loss: 0.682 | Train Acc: 55.78%\n",
      "\tValid Loss: 0.690 | Valid Acc: 50.92%\n",
      "\tModel parameters saved to single_head_pe.pt\n",
      "Epoch : 03\tWall time : 24.246s\n",
      "\tTrain Loss: 0.676 | Train Acc: 55.80%\n",
      "\tValid Loss: 0.680 | Valid Acc: 51.03%\n",
      "\tModel parameters saved to single_head_pe.pt\n",
      "Epoch : 04\tWall time : 24.688s\n",
      "\tTrain Loss: 0.666 | Train Acc: 56.63%\n",
      "\tValid Loss: 0.663 | Valid Acc: 55.39%\n",
      "\tModel parameters saved to single_head_pe.pt\n",
      "Epoch : 05\tWall time : 24.238s\n",
      "\tTrain Loss: 0.645 | Train Acc: 61.42%\n",
      "\tValid Loss: 0.632 | Valid Acc: 67.32%\n",
      "\tModel parameters saved to single_head_pe.pt\n",
      "Epoch : 06\tWall time : 24.422s\n",
      "\tTrain Loss: 0.612 | Train Acc: 67.98%\n",
      "\tValid Loss: 0.589 | Valid Acc: 72.36%\n",
      "\tModel parameters saved to single_head_pe.pt\n",
      "Epoch : 07\tWall time : 24.326s\n",
      "\tTrain Loss: 0.567 | Train Acc: 73.71%\n",
      "\tValid Loss: 0.545 | Valid Acc: 75.23%\n",
      "\tModel parameters saved to single_head_pe.pt\n",
      "Epoch : 08\tWall time : 24.124s\n",
      "\tTrain Loss: 0.519 | Train Acc: 77.94%\n",
      "\tValid Loss: 0.505 | Valid Acc: 76.15%\n",
      "\tModel parameters saved to single_head_pe.pt\n",
      "Epoch : 09\tWall time : 24.403s\n",
      "\tTrain Loss: 0.471 | Train Acc: 81.33%\n",
      "\tValid Loss: 0.472 | Valid Acc: 77.98%\n",
      "\tModel parameters saved to single_head_pe.pt\n",
      "Epoch : 10\tWall time : 24.029s\n",
      "\tTrain Loss: 0.428 | Train Acc: 83.96%\n",
      "\tValid Loss: 0.450 | Valid Acc: 79.13%\n",
      "\tModel parameters saved to single_head_pe.pt\n",
      "Epoch : 11\tWall time : 24.008s\n",
      "\tTrain Loss: 0.389 | Train Acc: 85.94%\n",
      "\tValid Loss: 0.439 | Valid Acc: 80.05%\n",
      "\tModel parameters saved to single_head_pe.pt\n",
      "Epoch : 12\tWall time : 24.036s\n",
      "\tTrain Loss: 0.358 | Train Acc: 87.23%\n",
      "\tValid Loss: 0.431 | Valid Acc: 80.05%\n",
      "\tModel parameters saved to single_head_pe.pt\n",
      "Epoch : 13\tWall time : 24.034s\n",
      "\tTrain Loss: 0.331 | Train Acc: 88.20%\n",
      "\tValid Loss: 0.433 | Valid Acc: 80.73%\n",
      "\n",
      "Epoch : 14\tWall time : 24.180s\n",
      "\tTrain Loss: 0.309 | Train Acc: 88.98%\n",
      "\tValid Loss: 0.434 | Valid Acc: 80.96%\n",
      "\n",
      "Epoch : 15\tWall time : 24.237s\n",
      "\tTrain Loss: 0.289 | Train Acc: 89.57%\n",
      "\tValid Loss: 0.438 | Valid Acc: 81.42%\n",
      "\n",
      "Epoch : 16\tWall time : 24.233s\n",
      "\tTrain Loss: 0.275 | Train Acc: 90.06%\n",
      "\tValid Loss: 0.446 | Valid Acc: 81.31%\n",
      "\n",
      "Epoch : 17\tWall time : 24.417s\n",
      "\tTrain Loss: 0.262 | Train Acc: 90.48%\n",
      "\tValid Loss: 0.457 | Valid Acc: 81.31%\n",
      "\n",
      "Epoch : 18\tWall time : 23.484s\n",
      "\tTrain Loss: 0.250 | Train Acc: 90.87%\n",
      "\tValid Loss: 0.466 | Valid Acc: 81.31%\n",
      "\n",
      "Epoch : 19\tWall time : 25.620s\n",
      "\tTrain Loss: 0.240 | Train Acc: 91.14%\n",
      "\tValid Loss: 0.472 | Valid Acc: 81.31%\n",
      "\n",
      "Epoch : 20\tWall time : 24.138s\n",
      "\tTrain Loss: 0.231 | Train Acc: 91.39%\n",
      "\tValid Loss: 0.480 | Valid Acc: 81.54%\n",
      "\n"
     ]
    }
   ],
   "source": [
    "single_head_pe_filename = 'single_head_pe.pt'\n",
    "learner.train(epochs=20, filename=single_head_pe_filename)"
   ]
  },
  {
   "cell_type": "markdown",
   "metadata": {},
   "source": [
    "### Load best model to evaluate"
   ]
  },
  {
   "cell_type": "code",
   "execution_count": 43,
   "metadata": {},
   "outputs": [],
   "source": [
    "learner.load_model_params(single_head_pe_filename)"
   ]
  },
  {
   "cell_type": "code",
   "execution_count": 44,
   "metadata": {},
   "outputs": [
    {
     "name": "stdout",
     "output_type": "stream",
     "text": [
      "\t Test Loss: 0.418 | Test Acc: 82.10%\n"
     ]
    }
   ],
   "source": [
    "test_loss, test_acc = learner.evaluate(test_loader)\n",
    "print(f'\\t Test Loss: {test_loss:.3f} | Test Acc: {test_acc * 100:.2f}%')"
   ]
  },
  {
   "cell_type": "markdown",
   "metadata": {},
   "source": [
    "# Transformer style attention model\n",
    "## w/ multiple attention heads"
   ]
  },
  {
   "cell_type": "markdown",
   "metadata": {},
   "source": [
    "### Load model and learner"
   ]
  },
  {
   "cell_type": "code",
   "execution_count": 45,
   "metadata": {},
   "outputs": [],
   "source": [
    "multi_head = MultiHeadSelfAttentionModel(len(vocab), model_dim=EMBED_DIM, num_heads=4, embed_dropout=EMBED_DROPOUT)"
   ]
  },
  {
   "cell_type": "code",
   "execution_count": 46,
   "metadata": {},
   "outputs": [],
   "source": [
    "learner = SentimentLearner(\n",
    "    model=multi_head,\n",
    "    train_loader=train_loader,\n",
    "    valid_loader=valid_loader,\n",
    "    loss_fn=loss_fn,\n",
    "    optim_cls=OPTIM_CLS,\n",
    "    lr=5e-6\n",
    ")"
   ]
  },
  {
   "cell_type": "markdown",
   "metadata": {},
   "source": [
    "### Train model"
   ]
  },
  {
   "cell_type": "code",
   "execution_count": 47,
   "metadata": {},
   "outputs": [
    {
     "name": "stdout",
     "output_type": "stream",
     "text": [
      "Epoch : 01\tWall time : 23.690s\n",
      "\tTrain Loss: 0.752 | Train Acc: 44.22%\n",
      "\tValid Loss: 0.695 | Valid Acc: 49.08%\n",
      "\tModel parameters saved to multi_head.pt\n",
      "Epoch : 02\tWall time : 23.422s\n",
      "\tTrain Loss: 0.691 | Train Acc: 53.17%\n",
      "\tValid Loss: 0.679 | Valid Acc: 51.61%\n",
      "\tModel parameters saved to multi_head.pt\n",
      "Epoch : 03\tWall time : 23.419s\n",
      "\tTrain Loss: 0.666 | Train Acc: 56.72%\n",
      "\tValid Loss: 0.658 | Valid Acc: 53.44%\n",
      "\tModel parameters saved to multi_head.pt\n",
      "Epoch : 04\tWall time : 23.237s\n",
      "\tTrain Loss: 0.632 | Train Acc: 64.99%\n",
      "\tValid Loss: 0.607 | Valid Acc: 69.61%\n",
      "\tModel parameters saved to multi_head.pt\n",
      "Epoch : 05\tWall time : 23.723s\n",
      "\tTrain Loss: 0.581 | Train Acc: 75.47%\n",
      "\tValid Loss: 0.556 | Valid Acc: 75.80%\n",
      "\tModel parameters saved to multi_head.pt\n",
      "Epoch : 06\tWall time : 23.481s\n",
      "\tTrain Loss: 0.528 | Train Acc: 80.23%\n",
      "\tValid Loss: 0.513 | Valid Acc: 77.29%\n",
      "\tModel parameters saved to multi_head.pt\n",
      "Epoch : 07\tWall time : 23.563s\n",
      "\tTrain Loss: 0.480 | Train Acc: 83.10%\n",
      "\tValid Loss: 0.480 | Valid Acc: 78.33%\n",
      "\tModel parameters saved to multi_head.pt\n",
      "Epoch : 08\tWall time : 23.443s\n",
      "\tTrain Loss: 0.437 | Train Acc: 85.50%\n",
      "\tValid Loss: 0.459 | Valid Acc: 79.47%\n",
      "\tModel parameters saved to multi_head.pt\n",
      "Epoch : 09\tWall time : 23.296s\n",
      "\tTrain Loss: 0.402 | Train Acc: 87.24%\n",
      "\tValid Loss: 0.442 | Valid Acc: 80.16%\n",
      "\tModel parameters saved to multi_head.pt\n",
      "Epoch : 10\tWall time : 23.175s\n",
      "\tTrain Loss: 0.373 | Train Acc: 88.48%\n",
      "\tValid Loss: 0.435 | Valid Acc: 80.85%\n",
      "\tModel parameters saved to multi_head.pt\n",
      "Epoch : 11\tWall time : 23.311s\n",
      "\tTrain Loss: 0.347 | Train Acc: 89.27%\n",
      "\tValid Loss: 0.424 | Valid Acc: 81.19%\n",
      "\tModel parameters saved to multi_head.pt\n",
      "Epoch : 12\tWall time : 23.479s\n",
      "\tTrain Loss: 0.325 | Train Acc: 89.91%\n",
      "\tValid Loss: 0.425 | Valid Acc: 81.19%\n",
      "\n",
      "Epoch : 13\tWall time : 23.499s\n",
      "\tTrain Loss: 0.306 | Train Acc: 90.46%\n",
      "\tValid Loss: 0.423 | Valid Acc: 81.31%\n",
      "\tModel parameters saved to multi_head.pt\n",
      "Epoch : 14\tWall time : 23.466s\n",
      "\tTrain Loss: 0.289 | Train Acc: 90.93%\n",
      "\tValid Loss: 0.423 | Valid Acc: 81.42%\n",
      "\tModel parameters saved to multi_head.pt\n",
      "Epoch : 15\tWall time : 23.508s\n",
      "\tTrain Loss: 0.275 | Train Acc: 91.31%\n",
      "\tValid Loss: 0.423 | Valid Acc: 81.42%\n",
      "\n",
      "Epoch : 16\tWall time : 23.532s\n",
      "\tTrain Loss: 0.262 | Train Acc: 91.64%\n",
      "\tValid Loss: 0.427 | Valid Acc: 81.77%\n",
      "\n",
      "Epoch : 17\tWall time : 23.419s\n",
      "\tTrain Loss: 0.250 | Train Acc: 91.92%\n",
      "\tValid Loss: 0.433 | Valid Acc: 81.65%\n",
      "\n",
      "Epoch : 18\tWall time : 23.441s\n",
      "\tTrain Loss: 0.240 | Train Acc: 92.23%\n",
      "\tValid Loss: 0.436 | Valid Acc: 81.65%\n",
      "\n",
      "Epoch : 19\tWall time : 23.361s\n",
      "\tTrain Loss: 0.231 | Train Acc: 92.48%\n",
      "\tValid Loss: 0.439 | Valid Acc: 82.22%\n",
      "\n",
      "Epoch : 20\tWall time : 23.582s\n",
      "\tTrain Loss: 0.223 | Train Acc: 92.69%\n",
      "\tValid Loss: 0.447 | Valid Acc: 82.00%\n",
      "\n"
     ]
    }
   ],
   "source": [
    "multi_head_filename = 'multi_head.pt'\n",
    "learner.train(epochs=20, filename=multi_head_filename)"
   ]
  },
  {
   "cell_type": "markdown",
   "metadata": {},
   "source": [
    "### Load best model to evaluate"
   ]
  },
  {
   "cell_type": "code",
   "execution_count": 48,
   "metadata": {},
   "outputs": [],
   "source": [
    "learner.load_model_params(multi_head_filename)"
   ]
  },
  {
   "cell_type": "code",
   "execution_count": 49,
   "metadata": {},
   "outputs": [
    {
     "name": "stdout",
     "output_type": "stream",
     "text": [
      "\t Test Loss: 0.405 | Test Acc: 82.98%\n"
     ]
    }
   ],
   "source": [
    "test_loss, test_acc = learner.evaluate(test_loader)\n",
    "print(f'\\t Test Loss: {test_loss:.3f} | Test Acc: {test_acc * 100:.2f}%')"
   ]
  },
  {
   "cell_type": "markdown",
   "metadata": {},
   "source": [
    "# Transformer style attention model\n",
    "## w/ multiple attention heads & positional encoding"
   ]
  },
  {
   "cell_type": "markdown",
   "metadata": {},
   "source": [
    "### Load model and learner"
   ]
  },
  {
   "cell_type": "code",
   "execution_count": 50,
   "metadata": {},
   "outputs": [],
   "source": [
    "multi_head_pe = MultiHeadSelfAttentionModel(len(vocab), model_dim=EMBED_DIM, num_heads=4, pos_encode=True, embed_dropout=EMBED_DROPOUT)"
   ]
  },
  {
   "cell_type": "code",
   "execution_count": 51,
   "metadata": {},
   "outputs": [],
   "source": [
    "learner = SentimentLearner(\n",
    "    model=multi_head_pe,\n",
    "    train_loader=train_loader,\n",
    "    valid_loader=valid_loader,\n",
    "    loss_fn=loss_fn,\n",
    "    optim_cls=OPTIM_CLS,\n",
    "    lr=5e-6\n",
    ")"
   ]
  },
  {
   "cell_type": "markdown",
   "metadata": {},
   "source": [
    "### Train model"
   ]
  },
  {
   "cell_type": "code",
   "execution_count": 52,
   "metadata": {},
   "outputs": [
    {
     "name": "stdout",
     "output_type": "stream",
     "text": [
      "Epoch : 01\tWall time : 24.191s\n",
      "\tTrain Loss: 0.689 | Train Acc: 53.21%\n",
      "\tValid Loss: 0.694 | Valid Acc: 50.92%\n",
      "\tModel parameters saved to multi_head_pe.pt\n",
      "Epoch : 02\tWall time : 24.103s\n",
      "\tTrain Loss: 0.682 | Train Acc: 55.78%\n",
      "\tValid Loss: 0.690 | Valid Acc: 50.92%\n",
      "\tModel parameters saved to multi_head_pe.pt\n",
      "Epoch : 03\tWall time : 24.106s\n",
      "\tTrain Loss: 0.677 | Train Acc: 55.80%\n",
      "\tValid Loss: 0.682 | Valid Acc: 50.92%\n",
      "\tModel parameters saved to multi_head_pe.pt\n",
      "Epoch : 04\tWall time : 23.999s\n",
      "\tTrain Loss: 0.666 | Train Acc: 56.70%\n",
      "\tValid Loss: 0.661 | Valid Acc: 56.88%\n",
      "\tModel parameters saved to multi_head_pe.pt\n",
      "Epoch : 05\tWall time : 24.055s\n",
      "\tTrain Loss: 0.642 | Train Acc: 62.53%\n",
      "\tValid Loss: 0.626 | Valid Acc: 69.38%\n",
      "\tModel parameters saved to multi_head_pe.pt\n",
      "Epoch : 06\tWall time : 24.101s\n",
      "\tTrain Loss: 0.603 | Train Acc: 69.32%\n",
      "\tValid Loss: 0.580 | Valid Acc: 73.74%\n",
      "\tModel parameters saved to multi_head_pe.pt\n",
      "Epoch : 07\tWall time : 24.119s\n",
      "\tTrain Loss: 0.555 | Train Acc: 75.31%\n",
      "\tValid Loss: 0.536 | Valid Acc: 76.49%\n",
      "\tModel parameters saved to multi_head_pe.pt\n",
      "Epoch : 08\tWall time : 23.876s\n",
      "\tTrain Loss: 0.508 | Train Acc: 79.65%\n",
      "\tValid Loss: 0.499 | Valid Acc: 76.83%\n",
      "\tModel parameters saved to multi_head_pe.pt\n",
      "Epoch : 09\tWall time : 24.365s\n",
      "\tTrain Loss: 0.464 | Train Acc: 82.75%\n",
      "\tValid Loss: 0.473 | Valid Acc: 78.67%\n",
      "\tModel parameters saved to multi_head_pe.pt\n",
      "Epoch : 10\tWall time : 23.923s\n",
      "\tTrain Loss: 0.425 | Train Acc: 85.26%\n",
      "\tValid Loss: 0.454 | Valid Acc: 80.16%\n",
      "\tModel parameters saved to multi_head_pe.pt\n",
      "Epoch : 11\tWall time : 23.487s\n",
      "\tTrain Loss: 0.392 | Train Acc: 86.99%\n",
      "\tValid Loss: 0.442 | Valid Acc: 80.16%\n",
      "\tModel parameters saved to multi_head_pe.pt\n",
      "Epoch : 12\tWall time : 23.890s\n",
      "\tTrain Loss: 0.366 | Train Acc: 88.07%\n",
      "\tValid Loss: 0.432 | Valid Acc: 81.08%\n",
      "\tModel parameters saved to multi_head_pe.pt\n",
      "Epoch : 13\tWall time : 24.108s\n",
      "\tTrain Loss: 0.341 | Train Acc: 89.04%\n",
      "\tValid Loss: 0.429 | Valid Acc: 81.31%\n",
      "\tModel parameters saved to multi_head_pe.pt\n",
      "Epoch : 14\tWall time : 23.955s\n",
      "\tTrain Loss: 0.321 | Train Acc: 89.59%\n",
      "\tValid Loss: 0.427 | Valid Acc: 82.00%\n",
      "\tModel parameters saved to multi_head_pe.pt\n",
      "Epoch : 15\tWall time : 24.026s\n",
      "\tTrain Loss: 0.304 | Train Acc: 90.09%\n",
      "\tValid Loss: 0.426 | Valid Acc: 81.42%\n",
      "\tModel parameters saved to multi_head_pe.pt\n",
      "Epoch : 16\tWall time : 24.005s\n",
      "\tTrain Loss: 0.289 | Train Acc: 90.55%\n",
      "\tValid Loss: 0.426 | Valid Acc: 82.11%\n",
      "\tModel parameters saved to multi_head_pe.pt\n",
      "Epoch : 17\tWall time : 24.206s\n",
      "\tTrain Loss: 0.275 | Train Acc: 90.93%\n",
      "\tValid Loss: 0.433 | Valid Acc: 80.96%\n",
      "\n",
      "Epoch : 18\tWall time : 24.108s\n",
      "\tTrain Loss: 0.264 | Train Acc: 91.26%\n",
      "\tValid Loss: 0.435 | Valid Acc: 80.85%\n",
      "\n",
      "Epoch : 19\tWall time : 24.292s\n",
      "\tTrain Loss: 0.254 | Train Acc: 91.53%\n",
      "\tValid Loss: 0.440 | Valid Acc: 81.31%\n",
      "\n",
      "Epoch : 20\tWall time : 24.204s\n",
      "\tTrain Loss: 0.245 | Train Acc: 91.80%\n",
      "\tValid Loss: 0.440 | Valid Acc: 81.31%\n",
      "\n"
     ]
    }
   ],
   "source": [
    "multi_head_pe_filename = 'multi_head_pe.pt'\n",
    "learner.train(epochs=20, filename=multi_head_pe_filename)"
   ]
  },
  {
   "cell_type": "markdown",
   "metadata": {},
   "source": [
    "### Load best model to evaluate"
   ]
  },
  {
   "cell_type": "code",
   "execution_count": 53,
   "metadata": {},
   "outputs": [],
   "source": [
    "learner.load_model_params(multi_head_pe_filename)"
   ]
  },
  {
   "cell_type": "code",
   "execution_count": 54,
   "metadata": {},
   "outputs": [
    {
     "name": "stdout",
     "output_type": "stream",
     "text": [
      "\t Test Loss: 0.410 | Test Acc: 82.43%\n"
     ]
    }
   ],
   "source": [
    "test_loss, test_acc = learner.evaluate(test_loader)\n",
    "print(f'\\t Test Loss: {test_loss:.3f} | Test Acc: {test_acc * 100:.2f}%')"
   ]
  }
 ],
 "metadata": {
  "kernelspec": {
   "display_name": "Python 3",
   "language": "python",
   "name": "python3"
  },
  "language_info": {
   "codemirror_mode": {
    "name": "ipython",
    "version": 3
   },
   "file_extension": ".py",
   "mimetype": "text/x-python",
   "name": "python",
   "nbconvert_exporter": "python",
   "pygments_lexer": "ipython3",
   "version": "3.6.8"
  }
 },
 "nbformat": 4,
 "nbformat_minor": 4
}
