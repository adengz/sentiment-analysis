{
 "cells": [
  {
   "cell_type": "code",
   "execution_count": 1,
   "metadata": {},
   "outputs": [],
   "source": [
    "import torch\n",
    "from torch import nn\n",
    "from transformers import BertConfig, BertTokenizer, BertForSequenceClassification, AdamW\n",
    "\n",
    "from data import PaddedSentiDataset, get_dataloader\n",
    "from learner import SentimentLearner\n",
    "\n",
    "torch.manual_seed(41)\n",
    "loss_fn = nn.BCEWithLogitsLoss()\n",
    "\n",
    "config = BertConfig(num_labels=1)"
   ]
  },
  {
   "cell_type": "markdown",
   "metadata": {},
   "source": [
    "### Hyperparameters"
   ]
  },
  {
   "cell_type": "code",
   "execution_count": 2,
   "metadata": {},
   "outputs": [],
   "source": [
    "BATCH_SIZE = 64\n",
    "OPTIM_CLS = AdamW"
   ]
  },
  {
   "cell_type": "markdown",
   "metadata": {},
   "source": [
    "### Load data"
   ]
  },
  {
   "cell_type": "code",
   "execution_count": 3,
   "metadata": {},
   "outputs": [],
   "source": [
    "tokenizer = BertTokenizer.from_pretrained('bert-base-uncased')"
   ]
  },
  {
   "cell_type": "code",
   "execution_count": 4,
   "metadata": {},
   "outputs": [
    {
     "name": "stdout",
     "output_type": "stream",
     "text": [
      "CPU times: user 22.1 s, sys: 110 ms, total: 22.2 s\n",
      "Wall time: 22.2 s\n"
     ]
    }
   ],
   "source": [
    "%%time\n",
    "FILENAME = 'senti.{}.tsv'\n",
    "\n",
    "train_set = PaddedSentiDataset(FILENAME.format('train'), tokenizer)\n",
    "valid_set = PaddedSentiDataset(FILENAME.format('dev'), tokenizer)\n",
    "test_set = PaddedSentiDataset(FILENAME.format('test'), tokenizer)\n",
    "\n",
    "train_loader = get_dataloader(train_set, batch_size=BATCH_SIZE)\n",
    "valid_loader = get_dataloader(valid_set, batch_size=BATCH_SIZE)\n",
    "test_loader = get_dataloader(test_set, batch_size=BATCH_SIZE)"
   ]
  },
  {
   "cell_type": "markdown",
   "metadata": {},
   "source": [
    "# Fine tune BERT"
   ]
  },
  {
   "cell_type": "markdown",
   "metadata": {},
   "source": [
    "### Load model and learner"
   ]
  },
  {
   "cell_type": "code",
   "execution_count": 5,
   "metadata": {},
   "outputs": [
    {
     "name": "stderr",
     "output_type": "stream",
     "text": [
      "Some weights of the model checkpoint at bert-base-uncased were not used when initializing BertForSequenceClassification: ['cls.predictions.bias', 'cls.predictions.transform.dense.weight', 'cls.predictions.transform.dense.bias', 'cls.predictions.decoder.weight', 'cls.seq_relationship.weight', 'cls.seq_relationship.bias', 'cls.predictions.transform.LayerNorm.weight', 'cls.predictions.transform.LayerNorm.bias']\n",
      "- This IS expected if you are initializing BertForSequenceClassification from the checkpoint of a model trained on another task or with another architecture (e.g. initializing a BertForSequenceClassification model from a BertForPreTraining model).\n",
      "- This IS NOT expected if you are initializing BertForSequenceClassification from the checkpoint of a model that you expect to be exactly identical (initializing a BertForSequenceClassification model from a BertForSequenceClassification model).\n",
      "Some weights of BertForSequenceClassification were not initialized from the model checkpoint at bert-base-uncased and are newly initialized: ['classifier.weight', 'classifier.bias']\n",
      "You should probably TRAIN this model on a down-stream task to be able to use it for predictions and inference.\n"
     ]
    }
   ],
   "source": [
    "model = BertForSequenceClassification.from_pretrained('bert-base-uncased', config=config)"
   ]
  },
  {
   "cell_type": "code",
   "execution_count": 6,
   "metadata": {},
   "outputs": [],
   "source": [
    "learner = SentimentLearner(\n",
    "    model=model,\n",
    "    train_loader=train_loader,\n",
    "    valid_loader=valid_loader,\n",
    "    loss_fn=loss_fn,\n",
    "    optim_cls=OPTIM_CLS,\n",
    "    lr=1e-6\n",
    ")"
   ]
  },
  {
   "cell_type": "markdown",
   "metadata": {},
   "source": [
    "### Train model"
   ]
  },
  {
   "cell_type": "code",
   "execution_count": 7,
   "metadata": {},
   "outputs": [
    {
     "name": "stdout",
     "output_type": "stream",
     "text": [
      "Epoch : 01\tWall time : 730.374s\n",
      "\tTrain Loss: 0.458 | Train Acc: 77.80%\n",
      "\tValid Loss: 0.311 | Valid Acc: 88.30%\n",
      "\tModel parameters saved to bert.pt\n",
      "Epoch : 02\tWall time : 784.042s\n",
      "\tTrain Loss: 0.273 | Train Acc: 89.65%\n",
      "\tValid Loss: 0.267 | Valid Acc: 89.56%\n",
      "\tModel parameters saved to bert.pt\n",
      "Epoch : 03\tWall time : 773.579s\n",
      "\tTrain Loss: 0.232 | Train Acc: 91.12%\n",
      "\tValid Loss: 0.253 | Valid Acc: 90.25%\n",
      "\tModel parameters saved to bert.pt\n",
      "Epoch : 04\tWall time : 711.095s\n",
      "\tTrain Loss: 0.207 | Train Acc: 92.18%\n",
      "\tValid Loss: 0.251 | Valid Acc: 90.71%\n",
      "\tModel parameters saved to bert.pt\n",
      "Epoch : 05\tWall time : 688.702s\n",
      "\tTrain Loss: 0.189 | Train Acc: 92.89%\n",
      "\tValid Loss: 0.243 | Valid Acc: 91.51%\n",
      "\tModel parameters saved to bert.pt\n"
     ]
    }
   ],
   "source": [
    "bert_filename = 'bert.pt'\n",
    "learner.train(epochs=5, filename=bert_filename)"
   ]
  },
  {
   "cell_type": "markdown",
   "metadata": {},
   "source": [
    "### Load best model to evaluate"
   ]
  },
  {
   "cell_type": "code",
   "execution_count": 8,
   "metadata": {},
   "outputs": [],
   "source": [
    "learner.load_model_params(bert_filename)"
   ]
  },
  {
   "cell_type": "code",
   "execution_count": 9,
   "metadata": {},
   "outputs": [
    {
     "name": "stdout",
     "output_type": "stream",
     "text": [
      "\t Test Loss: 0.203 | Test Acc: 91.54%\n",
      "CPU times: user 3.37 s, sys: 2.04 s, total: 5.41 s\n",
      "Wall time: 5.41 s\n"
     ]
    }
   ],
   "source": [
    "%%time\n",
    "test_loss, test_acc = learner.evaluate(test_loader)\n",
    "print(f'\\t Test Loss: {test_loss:.3f} | Test Acc: {test_acc * 100:.2f}%')"
   ]
  },
  {
   "cell_type": "code",
   "execution_count": null,
   "metadata": {},
   "outputs": [],
   "source": []
  }
 ],
 "metadata": {
  "kernelspec": {
   "display_name": "Python 3",
   "language": "python",
   "name": "python3"
  },
  "language_info": {
   "codemirror_mode": {
    "name": "ipython",
    "version": 3
   },
   "file_extension": ".py",
   "mimetype": "text/x-python",
   "name": "python",
   "nbconvert_exporter": "python",
   "pygments_lexer": "ipython3",
   "version": "3.6.8"
  }
 },
 "nbformat": 4,
 "nbformat_minor": 4
}
